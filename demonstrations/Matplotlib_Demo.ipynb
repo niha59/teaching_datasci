{
 "cells": [
  {
   "cell_type": "code",
   "execution_count": 1,
   "id": "f0a1adec-ad37-4588-8dae-0db0854f0195",
   "metadata": {},
   "outputs": [],
   "source": [
    "# Standard library.\n",
    "import itertools\n",
    "\n",
    "# Standard data science.\n",
    "import numpy as np\n",
    "import pandas as pd\n",
    "\n",
    "# Data science.\n",
    "# None here.\n",
    "\n",
    "# Display and plotting imports.\n",
    "from IPython.display import display, Markdown, Latex\n",
    "\n",
    "import matplotlib.pyplot as plt\n",
    "import matplotlib.transforms as mtransforms\n",
    "\n",
    "# Display and plotting configuration.\n",
    "%matplotlib inline"
   ]
  },
  {
   "cell_type": "markdown",
   "id": "6a01bd8b-9779-4e82-a3f8-7c32dc6400e6",
   "metadata": {},
   "source": [
    "# Matplotlib Demonstration"
   ]
  },
  {
   "cell_type": "markdown",
   "id": "034ad01c-c1f8-476e-b485-0d8fe97c3c23",
   "metadata": {},
   "source": [
    "## Load Data"
   ]
  },
  {
   "cell_type": "code",
   "execution_count": 2,
   "id": "d85a3a96-510d-4ed0-b2ae-ac07cd48ed1b",
   "metadata": {},
   "outputs": [],
   "source": [
    "data_url = \"https://github.com/mwaskom/seaborn-data/raw/master/\"\n",
    "\n",
    "# We can read .csv files directly from URLs!\n",
    "flights_df = pd.read_csv(data_url + \"flights.csv\")\n",
    "mpg_df = pd.read_csv(data_url + \"mpg.csv\")"
   ]
  },
  {
   "cell_type": "code",
   "execution_count": 3,
   "id": "614f8f36-daa2-40b6-96df-001d5a2d2c73",
   "metadata": {},
   "outputs": [
    {
     "data": {
      "text/markdown": [
       "### Flights Data"
      ],
      "text/plain": [
       "<IPython.core.display.Markdown object>"
      ]
     },
     "metadata": {},
     "output_type": "display_data"
    },
    {
     "data": {
      "text/html": [
       "<div>\n",
       "<style scoped>\n",
       "    .dataframe tbody tr th:only-of-type {\n",
       "        vertical-align: middle;\n",
       "    }\n",
       "\n",
       "    .dataframe tbody tr th {\n",
       "        vertical-align: top;\n",
       "    }\n",
       "\n",
       "    .dataframe thead th {\n",
       "        text-align: right;\n",
       "    }\n",
       "</style>\n",
       "<table border=\"1\" class=\"dataframe\">\n",
       "  <thead>\n",
       "    <tr style=\"text-align: right;\">\n",
       "      <th></th>\n",
       "      <th>year</th>\n",
       "      <th>month</th>\n",
       "      <th>passengers</th>\n",
       "    </tr>\n",
       "  </thead>\n",
       "  <tbody>\n",
       "    <tr>\n",
       "      <th>0</th>\n",
       "      <td>1949</td>\n",
       "      <td>January</td>\n",
       "      <td>112</td>\n",
       "    </tr>\n",
       "    <tr>\n",
       "      <th>1</th>\n",
       "      <td>1949</td>\n",
       "      <td>February</td>\n",
       "      <td>118</td>\n",
       "    </tr>\n",
       "    <tr>\n",
       "      <th>2</th>\n",
       "      <td>1949</td>\n",
       "      <td>March</td>\n",
       "      <td>132</td>\n",
       "    </tr>\n",
       "    <tr>\n",
       "      <th>3</th>\n",
       "      <td>1949</td>\n",
       "      <td>April</td>\n",
       "      <td>129</td>\n",
       "    </tr>\n",
       "    <tr>\n",
       "      <th>4</th>\n",
       "      <td>1949</td>\n",
       "      <td>May</td>\n",
       "      <td>121</td>\n",
       "    </tr>\n",
       "  </tbody>\n",
       "</table>\n",
       "</div>"
      ],
      "text/plain": [
       "   year     month  passengers\n",
       "0  1949   January         112\n",
       "1  1949  February         118\n",
       "2  1949     March         132\n",
       "3  1949     April         129\n",
       "4  1949       May         121"
      ]
     },
     "metadata": {},
     "output_type": "display_data"
    },
    {
     "name": "stdout",
     "output_type": "stream",
     "text": [
      "flights shape: (144, 3)\n"
     ]
    }
   ],
   "source": [
    "display(Markdown(\"### Flights Data\"))\n",
    "display(flights_df.head())\n",
    "# print(f'{flights_df.shape=}')\n",
    "print(f'flights shape: {flights_df.shape}')"
   ]
  },
  {
   "cell_type": "code",
   "execution_count": 28,
   "id": "c5fe0f01-f51f-4fc9-b7c4-da1bf1ef7475",
   "metadata": {},
   "outputs": [
    {
     "data": {
      "text/plain": [
       "((0.6509803921568628, 0.807843137254902, 0.8901960784313725),\n",
       " (0.12156862745098039, 0.47058823529411764, 0.7058823529411765),\n",
       " (0.6980392156862745, 0.8745098039215686, 0.5411764705882353),\n",
       " (0.2, 0.6274509803921569, 0.17254901960784313),\n",
       " (0.984313725490196, 0.6039215686274509, 0.6),\n",
       " (0.8901960784313725, 0.10196078431372549, 0.10980392156862745),\n",
       " (0.9921568627450981, 0.7490196078431373, 0.43529411764705883),\n",
       " (1.0, 0.4980392156862745, 0.0),\n",
       " (0.792156862745098, 0.6980392156862745, 0.8392156862745098),\n",
       " (0.41568627450980394, 0.23921568627450981, 0.6039215686274509),\n",
       " (1.0, 1.0, 0.6),\n",
       " (0.6941176470588235, 0.34901960784313724, 0.1568627450980392))"
      ]
     },
     "execution_count": 28,
     "metadata": {},
     "output_type": "execute_result"
    }
   ],
   "source": [
    "plt.cm.Paired.colors"
   ]
  },
  {
   "cell_type": "code",
   "execution_count": 31,
   "id": "4301cad0-82c1-4478-b82e-67cc52933cfb",
   "metadata": {},
   "outputs": [
    {
     "data": {
      "text/plain": [
       "{1949: (0.6509803921568628, 0.807843137254902, 0.8901960784313725),\n",
       " 1950: (0.12156862745098039, 0.47058823529411764, 0.7058823529411765),\n",
       " 1951: (0.6980392156862745, 0.8745098039215686, 0.5411764705882353),\n",
       " 1952: (0.2, 0.6274509803921569, 0.17254901960784313),\n",
       " 1953: (0.984313725490196, 0.6039215686274509, 0.6),\n",
       " 1954: (0.8901960784313725, 0.10196078431372549, 0.10980392156862745),\n",
       " 1955: (0.9921568627450981, 0.7490196078431373, 0.43529411764705883),\n",
       " 1956: (1.0, 0.4980392156862745, 0.0),\n",
       " 1957: (0.792156862745098, 0.6980392156862745, 0.8392156862745098),\n",
       " 1958: (0.41568627450980394, 0.23921568627450981, 0.6039215686274509),\n",
       " 1959: (1.0, 1.0, 0.6),\n",
       " 1960: (0.6941176470588235, 0.34901960784313724, 0.1568627450980392)}"
      ]
     },
     "execution_count": 31,
     "metadata": {},
     "output_type": "execute_result"
    }
   ],
   "source": [
    "my_cmap = {k: v for k, v in zip(flights_df['year'].unique(), plt.cm.Paired.colors)}\n",
    "my_cmap"
   ]
  },
  {
   "cell_type": "code",
   "execution_count": 33,
   "id": "a4a01cef-aa1a-4a5c-aebd-b56dddb94c95",
   "metadata": {},
   "outputs": [
    {
     "data": {
      "text/html": [
       "<div>\n",
       "<style scoped>\n",
       "    .dataframe tbody tr th:only-of-type {\n",
       "        vertical-align: middle;\n",
       "    }\n",
       "\n",
       "    .dataframe tbody tr th {\n",
       "        vertical-align: top;\n",
       "    }\n",
       "\n",
       "    .dataframe thead th {\n",
       "        text-align: right;\n",
       "    }\n",
       "</style>\n",
       "<table border=\"1\" class=\"dataframe\">\n",
       "  <thead>\n",
       "    <tr style=\"text-align: right;\">\n",
       "      <th></th>\n",
       "      <th>year</th>\n",
       "      <th>month</th>\n",
       "      <th>passengers</th>\n",
       "      <th>year_color</th>\n",
       "    </tr>\n",
       "  </thead>\n",
       "  <tbody>\n",
       "    <tr>\n",
       "      <th>0</th>\n",
       "      <td>1949</td>\n",
       "      <td>January</td>\n",
       "      <td>112</td>\n",
       "      <td>(0.6509803921568628, 0.807843137254902, 0.8901...</td>\n",
       "    </tr>\n",
       "    <tr>\n",
       "      <th>1</th>\n",
       "      <td>1949</td>\n",
       "      <td>February</td>\n",
       "      <td>118</td>\n",
       "      <td>(0.6509803921568628, 0.807843137254902, 0.8901...</td>\n",
       "    </tr>\n",
       "    <tr>\n",
       "      <th>2</th>\n",
       "      <td>1949</td>\n",
       "      <td>March</td>\n",
       "      <td>132</td>\n",
       "      <td>(0.6509803921568628, 0.807843137254902, 0.8901...</td>\n",
       "    </tr>\n",
       "    <tr>\n",
       "      <th>3</th>\n",
       "      <td>1949</td>\n",
       "      <td>April</td>\n",
       "      <td>129</td>\n",
       "      <td>(0.6509803921568628, 0.807843137254902, 0.8901...</td>\n",
       "    </tr>\n",
       "    <tr>\n",
       "      <th>4</th>\n",
       "      <td>1949</td>\n",
       "      <td>May</td>\n",
       "      <td>121</td>\n",
       "      <td>(0.6509803921568628, 0.807843137254902, 0.8901...</td>\n",
       "    </tr>\n",
       "    <tr>\n",
       "      <th>...</th>\n",
       "      <td>...</td>\n",
       "      <td>...</td>\n",
       "      <td>...</td>\n",
       "      <td>...</td>\n",
       "    </tr>\n",
       "    <tr>\n",
       "      <th>139</th>\n",
       "      <td>1960</td>\n",
       "      <td>August</td>\n",
       "      <td>606</td>\n",
       "      <td>(0.6941176470588235, 0.34901960784313724, 0.15...</td>\n",
       "    </tr>\n",
       "    <tr>\n",
       "      <th>140</th>\n",
       "      <td>1960</td>\n",
       "      <td>September</td>\n",
       "      <td>508</td>\n",
       "      <td>(0.6941176470588235, 0.34901960784313724, 0.15...</td>\n",
       "    </tr>\n",
       "    <tr>\n",
       "      <th>141</th>\n",
       "      <td>1960</td>\n",
       "      <td>October</td>\n",
       "      <td>461</td>\n",
       "      <td>(0.6941176470588235, 0.34901960784313724, 0.15...</td>\n",
       "    </tr>\n",
       "    <tr>\n",
       "      <th>142</th>\n",
       "      <td>1960</td>\n",
       "      <td>November</td>\n",
       "      <td>390</td>\n",
       "      <td>(0.6941176470588235, 0.34901960784313724, 0.15...</td>\n",
       "    </tr>\n",
       "    <tr>\n",
       "      <th>143</th>\n",
       "      <td>1960</td>\n",
       "      <td>December</td>\n",
       "      <td>432</td>\n",
       "      <td>(0.6941176470588235, 0.34901960784313724, 0.15...</td>\n",
       "    </tr>\n",
       "  </tbody>\n",
       "</table>\n",
       "<p>144 rows × 4 columns</p>\n",
       "</div>"
      ],
      "text/plain": [
       "     year      month  passengers  \\\n",
       "0    1949    January         112   \n",
       "1    1949   February         118   \n",
       "2    1949      March         132   \n",
       "3    1949      April         129   \n",
       "4    1949        May         121   \n",
       "..    ...        ...         ...   \n",
       "139  1960     August         606   \n",
       "140  1960  September         508   \n",
       "141  1960    October         461   \n",
       "142  1960   November         390   \n",
       "143  1960   December         432   \n",
       "\n",
       "                                            year_color  \n",
       "0    (0.6509803921568628, 0.807843137254902, 0.8901...  \n",
       "1    (0.6509803921568628, 0.807843137254902, 0.8901...  \n",
       "2    (0.6509803921568628, 0.807843137254902, 0.8901...  \n",
       "3    (0.6509803921568628, 0.807843137254902, 0.8901...  \n",
       "4    (0.6509803921568628, 0.807843137254902, 0.8901...  \n",
       "..                                                 ...  \n",
       "139  (0.6941176470588235, 0.34901960784313724, 0.15...  \n",
       "140  (0.6941176470588235, 0.34901960784313724, 0.15...  \n",
       "141  (0.6941176470588235, 0.34901960784313724, 0.15...  \n",
       "142  (0.6941176470588235, 0.34901960784313724, 0.15...  \n",
       "143  (0.6941176470588235, 0.34901960784313724, 0.15...  \n",
       "\n",
       "[144 rows x 4 columns]"
      ]
     },
     "execution_count": 33,
     "metadata": {},
     "output_type": "execute_result"
    }
   ],
   "source": [
    "flights_df['year_color'] = flights_df['year'].map(my_cmap)\n",
    "flights_df"
   ]
  },
  {
   "cell_type": "code",
   "execution_count": 17,
   "id": "e75a838d-5d71-4156-b3cc-d50a9e48e853",
   "metadata": {},
   "outputs": [
    {
     "data": {
      "text/plain": [
       "array([1949, 1950, 1951, 1952, 1953, 1954, 1955, 1956, 1957, 1958, 1959,\n",
       "       1960], dtype=int64)"
      ]
     },
     "execution_count": 17,
     "metadata": {},
     "output_type": "execute_result"
    }
   ],
   "source": [
    "flights_df['year'].unique()"
   ]
  },
  {
   "cell_type": "code",
   "execution_count": 4,
   "id": "e4eb2981-d851-4598-bc69-272f7206fb4a",
   "metadata": {},
   "outputs": [
    {
     "data": {
      "text/html": [
       "<div>\n",
       "<style scoped>\n",
       "    .dataframe tbody tr th:only-of-type {\n",
       "        vertical-align: middle;\n",
       "    }\n",
       "\n",
       "    .dataframe tbody tr th {\n",
       "        vertical-align: top;\n",
       "    }\n",
       "\n",
       "    .dataframe thead th {\n",
       "        text-align: right;\n",
       "    }\n",
       "</style>\n",
       "<table border=\"1\" class=\"dataframe\">\n",
       "  <thead>\n",
       "    <tr style=\"text-align: right;\">\n",
       "      <th></th>\n",
       "      <th>year</th>\n",
       "      <th>passengers</th>\n",
       "    </tr>\n",
       "  </thead>\n",
       "  <tbody>\n",
       "    <tr>\n",
       "      <th>count</th>\n",
       "      <td>144.000000</td>\n",
       "      <td>144.000000</td>\n",
       "    </tr>\n",
       "    <tr>\n",
       "      <th>mean</th>\n",
       "      <td>1954.500000</td>\n",
       "      <td>280.298611</td>\n",
       "    </tr>\n",
       "    <tr>\n",
       "      <th>std</th>\n",
       "      <td>3.464102</td>\n",
       "      <td>119.966317</td>\n",
       "    </tr>\n",
       "    <tr>\n",
       "      <th>min</th>\n",
       "      <td>1949.000000</td>\n",
       "      <td>104.000000</td>\n",
       "    </tr>\n",
       "    <tr>\n",
       "      <th>25%</th>\n",
       "      <td>1951.750000</td>\n",
       "      <td>180.000000</td>\n",
       "    </tr>\n",
       "    <tr>\n",
       "      <th>50%</th>\n",
       "      <td>1954.500000</td>\n",
       "      <td>265.500000</td>\n",
       "    </tr>\n",
       "    <tr>\n",
       "      <th>75%</th>\n",
       "      <td>1957.250000</td>\n",
       "      <td>360.500000</td>\n",
       "    </tr>\n",
       "    <tr>\n",
       "      <th>max</th>\n",
       "      <td>1960.000000</td>\n",
       "      <td>622.000000</td>\n",
       "    </tr>\n",
       "  </tbody>\n",
       "</table>\n",
       "</div>"
      ],
      "text/plain": [
       "              year  passengers\n",
       "count   144.000000  144.000000\n",
       "mean   1954.500000  280.298611\n",
       "std       3.464102  119.966317\n",
       "min    1949.000000  104.000000\n",
       "25%    1951.750000  180.000000\n",
       "50%    1954.500000  265.500000\n",
       "75%    1957.250000  360.500000\n",
       "max    1960.000000  622.000000"
      ]
     },
     "execution_count": 4,
     "metadata": {},
     "output_type": "execute_result"
    }
   ],
   "source": [
    "flights_df.describe()"
   ]
  },
  {
   "cell_type": "code",
   "execution_count": 11,
   "id": "4d3d0fa6-7f5b-4457-a66e-428adc8a37eb",
   "metadata": {},
   "outputs": [
    {
     "ename": "NameError",
     "evalue": "name 'key' is not defined",
     "output_type": "error",
     "traceback": [
      "\u001b[1;31m---------------------------------------------------------------------------\u001b[0m",
      "\u001b[1;31mNameError\u001b[0m                                 Traceback (most recent call last)",
      "\u001b[1;32m~\\AppData\\Local\\Temp/ipykernel_49392/3064378186.py\u001b[0m in \u001b[0;36m<module>\u001b[1;34m\u001b[0m\n\u001b[1;32m----> 1\u001b[1;33m \u001b[0mkey\u001b[0m\u001b[1;33m\u001b[0m\u001b[1;33m\u001b[0m\u001b[0m\n\u001b[0m",
      "\u001b[1;31mNameError\u001b[0m: name 'key' is not defined"
     ]
    }
   ],
   "source": [
    "key"
   ]
  },
  {
   "cell_type": "code",
   "execution_count": 34,
   "id": "57c0f065-d6d2-4ba7-a377-7f5f50104395",
   "metadata": {},
   "outputs": [
    {
     "data": {
      "text/plain": [
       "<AxesSubplot:>"
      ]
     },
     "execution_count": 34,
     "metadata": {},
     "output_type": "execute_result"
    },
    {
     "data": {
      "image/png": "[encoded data removed]",
      "text/plain": [
       "<Figure size 432x288 with 1 Axes>"
      ]
     },
     "metadata": {
      "needs_background": "light"
     },
     "output_type": "display_data"
    }
   ],
   "source": [
    "\n",
    "def draw_thing(data, cmap=None, ax=None):\n",
    "    \n",
    "    if ax is None:\n",
    "        fig, ax = plt.subplots()\n",
    "        \n",
    "    if cmap is None:\n",
    "        cmap = {1949: 'red'}\n",
    "    \n",
    "    for key, gdf in data.groupby('year'):\n",
    "        # return type(key)\n",
    "        ax.scatter('month', 'passengers', data=gdf, label=key, \n",
    "                   c='year_color'\n",
    "                  )\n",
    "        # return key\n",
    "        break\n",
    "    ax.legend()\n",
    "    return ax\n",
    "\n",
    "\n",
    "\n",
    "# fig, ax = plt.subplots(figsize=(6, 6))\n",
    "draw_thing(flights_df)"
   ]
  },
  {
   "cell_type": "code",
   "execution_count": 17,
   "id": "482cd32c-9a38-4b30-89af-c4af939c4717",
   "metadata": {},
   "outputs": [],
   "source": [
    "# fig, ax = plt.subplots()\n",
    "\n",
    "# for key, gdf in flights_df.groupby('year'):\n",
    "#     ax.scatter('month', 'passengers', data=gdf, label='year')\n",
    "#     # break\n",
    "    \n",
    "# gdf"
   ]
  },
  {
   "cell_type": "code",
   "execution_count": 20,
   "id": "2d8479ed-51fa-43fd-b23e-b7de8ac4139d",
   "metadata": {},
   "outputs": [
    {
     "data": {
      "text/plain": [
       "\u001b[1;31mType:\u001b[0m           BboxTransformTo\n",
       "\u001b[1;31mString form:\u001b[0m   \n",
       "BboxTransformTo(\n",
       "           TransformedBbox(\n",
       "           Bbox(x0=0.06018574074074074, y0=0.06944527777777777 <...>\n",
       "           Bbox(x0=0.0, y0=0.0, x1=6.0, y1=4.0),\n",
       "           Affine2D().scale(72.0)))))\n",
       "\u001b[1;31mFile:\u001b[0m           c:\\users\\tyler\\anaconda3\\lib\\site-packages\\matplotlib\\transforms.py\n",
       "\u001b[1;31mDocstring:\u001b[0m     \n",
       "`BboxTransformTo` is a transformation that linearly transforms points from\n",
       "the unit bounding box to a given `Bbox`.\n",
       "\u001b[1;31mInit docstring:\u001b[0m\n",
       "Create a new `BboxTransformTo` that linearly transforms\n",
       "points from the unit bounding box to *boxout*.\n"
      ]
     },
     "metadata": {},
     "output_type": "display_data"
    }
   ],
   "source": [
    "ax.transAxes?"
   ]
  },
  {
   "cell_type": "code",
   "execution_count": null,
   "id": "17103cdb-d31a-4121-8dae-1a45c58ba3f3",
   "metadata": {},
   "outputs": [],
   "source": []
  },
  {
   "cell_type": "code",
   "execution_count": 31,
   "id": "80983622-a4c8-43ec-9ce6-a9e5aca7cff4",
   "metadata": {},
   "outputs": [
    {
     "data": {
      "image/png": "[encoded data removed]",
      "text/plain": [
       "<Figure size 432x288 with 4 Axes>"
      ]
     },
     "metadata": {
      "needs_background": "light"
     },
     "output_type": "display_data"
    }
   ],
   "source": [
    "fig, axs = plt.subplot_mosaic([\n",
    "    ['a)', 'c)'], \n",
    "    ['b)', 'c)'], \n",
    "    ['d)', 'd)']],\n",
    "    constrained_layout=True)\n",
    "\n",
    "\n",
    "draw_thing(flights_df, axs['a)'])\n",
    "axs['a)'].xaxis.set_tick_params(rotation=45)"
   ]
  },
  {
   "cell_type": "code",
   "execution_count": 29,
   "id": "ce1b2111-580c-4c86-ac22-0695d84af885",
   "metadata": {},
   "outputs": [
    {
     "data": {
      "image/png": "[encoded data removed]",
      "text/plain": [
       "<Figure size 432x288 with 4 Axes>"
      ]
     },
     "metadata": {
      "needs_background": "light"
     },
     "output_type": "display_data"
    }
   ],
   "source": [
    "fig, axs = plt.subplot_mosaic([\n",
    "    ['a)', 'c)'], \n",
    "    ['b)', 'c)'], \n",
    "    ['d)', 'd)']],\n",
    "    constrained_layout=True)\n",
    "\n",
    "for label, ax in axs.items():\n",
    "    # label physical distance in and down:\n",
    "    \n",
    "    trans = mtransforms.ScaledTranslation(10/72, -5/72, fig.dpi_scale_trans)\n",
    "    \n",
    "    # ax.text(0.0, 1.0, label, transform=ax.transAxes + trans,\n",
    "            # fontsize='medium', verticalalignment='top', fontfamily='serif',\n",
    "            # bbox=dict(facecolor='0.7', edgecolor='none', pad=3.0))\n",
    "    \n",
    "    ax.set_title('Normal Title', fontstyle='italic')\n",
    "    ax.set_title(label, fontfamily='serif', loc='left', fontsize='medium')\n",
    "    ax.xaxis.set_tick_params(rotation=45)"
   ]
  },
  {
   "cell_type": "code",
   "execution_count": null,
   "id": "b6ef6db0-05b6-4298-9122-c1775cc5b5d4",
   "metadata": {},
   "outputs": [],
   "source": []
  }
 ],
 "metadata": {
  "kernelspec": {
   "display_name": "Python 3 (ipykernel)",
   "language": "python",
   "name": "python3"
  },
  "language_info": {
   "codemirror_mode": {
    "name": "ipython",
    "version": 3
   },
   "file_extension": ".py",
   "mimetype": "text/x-python",
   "name": "python",
   "nbconvert_exporter": "python",
   "pygments_lexer": "ipython3",
   "version": "3.7.7"
  }
 },
 "nbformat": 4,
 "nbformat_minor": 5
}
