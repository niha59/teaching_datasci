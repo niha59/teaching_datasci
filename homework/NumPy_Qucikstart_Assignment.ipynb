{
 "cells": [
  {
   "cell_type": "markdown",
   "id": "f33e91f5-f138-4e2b-9496-c178f8a49303",
   "metadata": {},
   "source": [
    "__Learning Objectives__\n",
    "\n",
    "Understand the difference between one-, two- and n-dimensional arrays in NumPy;\n",
    "\n",
    "Understand how to apply some linear algebra operations to n-dimensional arrays without using for-loops;\n",
    "\n",
    "Understand axis and shape properties for n-dimensional arrays."
   ]
  },
  {
   "cell_type": "code",
   "execution_count": 2,
   "id": "41c080b6-a076-4418-b0ca-41021c7988d0",
   "metadata": {},
   "outputs": [],
   "source": [
    "import numpy as np"
   ]
  },
  {
   "cell_type": "code",
   "execution_count": 8,
   "id": "209a5133-b964-4517-b053-d5d46bce3d7c",
   "metadata": {},
   "outputs": [],
   "source": [
    "test_1=np.array([1,2,3,4,5])"
   ]
  },
  {
   "cell_type": "code",
   "execution_count": 9,
   "id": "92aa322e-35a3-4b64-acce-86cebab25517",
   "metadata": {},
   "outputs": [
    {
     "data": {
      "text/plain": [
       "(5,)"
      ]
     },
     "execution_count": 9,
     "metadata": {},
     "output_type": "execute_result"
    }
   ],
   "source": [
    "test_1.shape"
   ]
  },
  {
   "cell_type": "code",
   "execution_count": 24,
   "id": "ce70db34-8a20-45f9-992f-677a29bfd5e7",
   "metadata": {},
   "outputs": [
    {
     "data": {
      "text/plain": [
       "1"
      ]
     },
     "execution_count": 24,
     "metadata": {},
     "output_type": "execute_result"
    }
   ],
   "source": [
    "test_1.ndim"
   ]
  },
  {
   "cell_type": "code",
   "execution_count": 48,
   "id": "79a50282-0f1f-4c18-b650-eb91f7506892",
   "metadata": {},
   "outputs": [
    {
     "data": {
      "text/plain": [
       "5"
      ]
     },
     "execution_count": 48,
     "metadata": {},
     "output_type": "execute_result"
    }
   ],
   "source": [
    "test_1[4]"
   ]
  },
  {
   "cell_type": "code",
   "execution_count": 57,
   "id": "37e3077b-f942-4413-907a-ecc5e47b83d8",
   "metadata": {},
   "outputs": [
    {
     "data": {
      "text/plain": [
       "<memory at 0x000001CF58CD6F40>"
      ]
     },
     "execution_count": 57,
     "metadata": {},
     "output_type": "execute_result"
    }
   ],
   "source": [
    "test_1.data"
   ]
  },
  {
   "cell_type": "markdown",
   "id": "69aa7571-0510-48d4-8108-079eafa2b573",
   "metadata": {},
   "source": [
    "__ndarray.data__<br>why isn't this working"
   ]
  },
  {
   "cell_type": "code",
   "execution_count": 20,
   "id": "72bfaf1d-af93-42b9-8012-aea355894f24",
   "metadata": {},
   "outputs": [],
   "source": [
    "test_2 = np.array([[1., 0., 0.],\n",
    "                 [0., 1., 2.]])"
   ]
  },
  {
   "cell_type": "markdown",
   "id": "c0f4d31a-c5e6-45c5-9b84-ab6d8dc24348",
   "metadata": {},
   "source": [
    "The above array has 2 axes. The first axis has a length of 2, the second axis has a length of 3."
   ]
  },
  {
   "cell_type": "code",
   "execution_count": 21,
   "id": "6c4af678-0489-4f92-8d69-8cd58b005c41",
   "metadata": {},
   "outputs": [
    {
     "data": {
      "text/plain": [
       "(2, 3)"
      ]
     },
     "execution_count": 21,
     "metadata": {},
     "output_type": "execute_result"
    }
   ],
   "source": [
    "test_2.shape"
   ]
  },
  {
   "cell_type": "code",
   "execution_count": 23,
   "id": "7be0d530-0138-4126-8478-8da2c2946f69",
   "metadata": {
    "tags": []
   },
   "outputs": [
    {
     "data": {
      "text/plain": [
       "2"
      ]
     },
     "execution_count": 23,
     "metadata": {},
     "output_type": "execute_result"
    }
   ],
   "source": [
    "test_2.ndim"
   ]
  },
  {
   "cell_type": "code",
   "execution_count": 52,
   "id": "f40c074b-1c41-43f6-8ff3-d2afb9d43ac4",
   "metadata": {},
   "outputs": [
    {
     "data": {
      "text/plain": [
       "2.0"
      ]
     },
     "execution_count": 52,
     "metadata": {},
     "output_type": "execute_result"
    }
   ],
   "source": [
    "test_2[1][2]"
   ]
  },
  {
   "cell_type": "code",
   "execution_count": 17,
   "id": "648b838b-5d47-479c-b45f-758cbaa1c586",
   "metadata": {},
   "outputs": [],
   "source": [
    "test_3 = np.array([[1., 0., 0., 0.],\n",
    "                   [0., 1., 2., 0.],\n",
    "                   [1., 2., 3., 0.]])"
   ]
  },
  {
   "cell_type": "code",
   "execution_count": 18,
   "id": "dc116064-e67f-46e1-90a7-5922ee66393f",
   "metadata": {},
   "outputs": [
    {
     "data": {
      "text/plain": [
       "(3, 4)"
      ]
     },
     "execution_count": 18,
     "metadata": {},
     "output_type": "execute_result"
    }
   ],
   "source": [
    "test_3.shape"
   ]
  },
  {
   "cell_type": "code",
   "execution_count": 25,
   "id": "b668a4b7-07a5-4512-b177-e3dfe5f5a31f",
   "metadata": {},
   "outputs": [
    {
     "data": {
      "text/plain": [
       "2"
      ]
     },
     "execution_count": 25,
     "metadata": {},
     "output_type": "execute_result"
    }
   ],
   "source": [
    "test_3.ndim"
   ]
  },
  {
   "cell_type": "code",
   "execution_count": 26,
   "id": "ecbb6ab0-f115-478d-822e-f1d7053bb579",
   "metadata": {},
   "outputs": [
    {
     "data": {
      "text/plain": [
       "12"
      ]
     },
     "execution_count": 26,
     "metadata": {},
     "output_type": "execute_result"
    }
   ],
   "source": [
    "test_3.size"
   ]
  },
  {
   "cell_type": "code",
   "execution_count": 27,
   "id": "f930922a-8de5-4e87-b3b4-1975f67a2833",
   "metadata": {
    "tags": []
   },
   "outputs": [
    {
     "data": {
      "text/plain": [
       "dtype('float64')"
      ]
     },
     "execution_count": 27,
     "metadata": {},
     "output_type": "execute_result"
    }
   ],
   "source": [
    "test_3.dtype"
   ]
  },
  {
   "cell_type": "code",
   "execution_count": 36,
   "id": "2ac152b4-97ac-425f-9283-dec8a7321422",
   "metadata": {},
   "outputs": [
    {
     "data": {
      "text/plain": [
       "8"
      ]
     },
     "execution_count": 36,
     "metadata": {},
     "output_type": "execute_result"
    }
   ],
   "source": [
    "test_3.itemsize"
   ]
  },
  {
   "cell_type": "code",
   "execution_count": 56,
   "id": "3b4bffff-283a-4320-8c01-aad856fbbe93",
   "metadata": {},
   "outputs": [
    {
     "data": {
      "text/plain": [
       "3.0"
      ]
     },
     "execution_count": 56,
     "metadata": {},
     "output_type": "execute_result"
    }
   ],
   "source": [
    "test_3[2][2]"
   ]
  },
  {
   "cell_type": "code",
   "execution_count": 30,
   "id": "87d65cc7-5af0-4f47-840e-ef05843fcee8",
   "metadata": {},
   "outputs": [],
   "source": [
    "test_4=np.ones ((5,5), int)"
   ]
  },
  {
   "cell_type": "code",
   "execution_count": 31,
   "id": "cf076442-fff2-42d0-b8af-eebad147d3b5",
   "metadata": {},
   "outputs": [
    {
     "data": {
      "text/plain": [
       "array([[1, 1, 1, 1, 1],\n",
       "       [1, 1, 1, 1, 1],\n",
       "       [1, 1, 1, 1, 1],\n",
       "       [1, 1, 1, 1, 1],\n",
       "       [1, 1, 1, 1, 1]])"
      ]
     },
     "execution_count": 31,
     "metadata": {},
     "output_type": "execute_result"
    }
   ],
   "source": [
    "test_4"
   ]
  },
  {
   "cell_type": "code",
   "execution_count": 32,
   "id": "3c22f65c-81ea-4b09-b7f3-e16ad5b5857a",
   "metadata": {},
   "outputs": [
    {
     "data": {
      "text/plain": [
       "dtype('int32')"
      ]
     },
     "execution_count": 32,
     "metadata": {},
     "output_type": "execute_result"
    }
   ],
   "source": [
    "test_4.dtype"
   ]
  },
  {
   "cell_type": "code",
   "execution_count": 33,
   "id": "c77e88f9-b784-4bba-84c9-f7fc9b690132",
   "metadata": {},
   "outputs": [
    {
     "data": {
      "text/plain": [
       "4"
      ]
     },
     "execution_count": 33,
     "metadata": {},
     "output_type": "execute_result"
    }
   ],
   "source": [
    "test_4.itemsize"
   ]
  },
  {
   "cell_type": "code",
   "execution_count": 35,
   "id": "81303906-f2f1-4719-ab4c-d40a098b1925",
   "metadata": {},
   "outputs": [
    {
     "data": {
      "text/plain": [
       "4"
      ]
     },
     "execution_count": 35,
     "metadata": {},
     "output_type": "execute_result"
    }
   ],
   "source": [
    "test_4.dtype.itemsize"
   ]
  },
  {
   "cell_type": "code",
   "execution_count": 59,
   "id": "4267cb6c-696b-4c7c-afdc-df047f8294ac",
   "metadata": {},
   "outputs": [
    {
     "data": {
      "text/plain": [
       "25"
      ]
     },
     "execution_count": 59,
     "metadata": {},
     "output_type": "execute_result"
    }
   ],
   "source": [
    "test_4.size"
   ]
  },
  {
   "cell_type": "code",
   "execution_count": 64,
   "id": "5ff15712-9e36-4594-bcfc-c8cbb089bdc5",
   "metadata": {},
   "outputs": [
    {
     "data": {
      "text/plain": [
       "array([ 0,  1,  2,  3,  4,  5,  6,  7,  8,  9, 10, 11, 12, 13, 14, 15, 16,\n",
       "       17, 18, 19, 20, 21, 22, 23, 24, 25, 26, 27, 28, 29, 30, 31, 32, 33,\n",
       "       34, 35, 36, 37, 38, 39, 40, 41, 42, 43, 44, 45, 46, 47, 48, 49])"
      ]
     },
     "execution_count": 64,
     "metadata": {},
     "output_type": "execute_result"
    }
   ],
   "source": [
    "a = np.arange(50)\n",
    "a"
   ]
  },
  {
   "cell_type": "code",
   "execution_count": 68,
   "id": "7c028e9f-e6cb-4f5d-a118-7cdbabd6c32a",
   "metadata": {},
   "outputs": [
    {
     "data": {
      "text/plain": [
       "array([[ 0,  1,  2,  3,  4],\n",
       "       [ 5,  6,  7,  8,  9],\n",
       "       [10, 11, 12, 13, 14],\n",
       "       [15, 16, 17, 18, 19],\n",
       "       [20, 21, 22, 23, 24],\n",
       "       [25, 26, 27, 28, 29],\n",
       "       [30, 31, 32, 33, 34],\n",
       "       [35, 36, 37, 38, 39],\n",
       "       [40, 41, 42, 43, 44],\n",
       "       [45, 46, 47, 48, 49]])"
      ]
     },
     "execution_count": 68,
     "metadata": {},
     "output_type": "execute_result"
    }
   ],
   "source": [
    "b=a.reshape(10, 5)\n",
    "b"
   ]
  },
  {
   "cell_type": "code",
   "execution_count": 69,
   "id": "8ba20c20-1fab-4543-9f95-1a8c5f153c5b",
   "metadata": {},
   "outputs": [
    {
     "data": {
      "text/plain": [
       "array([[ 0,  1,  2,  3,  4,  5,  6,  7,  8,  9],\n",
       "       [10, 11, 12, 13, 14, 15, 16, 17, 18, 19],\n",
       "       [20, 21, 22, 23, 24, 25, 26, 27, 28, 29],\n",
       "       [30, 31, 32, 33, 34, 35, 36, 37, 38, 39],\n",
       "       [40, 41, 42, 43, 44, 45, 46, 47, 48, 49]])"
      ]
     },
     "execution_count": 69,
     "metadata": {},
     "output_type": "execute_result"
    }
   ],
   "source": [
    "c=a.reshape(5,10)\n",
    "c"
   ]
  },
  {
   "cell_type": "code",
   "execution_count": 79,
   "id": "9e138e79-4ae6-45b1-867c-6ae4bdd55413",
   "metadata": {},
   "outputs": [
    {
     "data": {
      "text/plain": [
       "array([[0, 1, 2, 3, 4],\n",
       "       [5, 6, 7, 8, 9]])"
      ]
     },
     "execution_count": 79,
     "metadata": {},
     "output_type": "execute_result"
    }
   ],
   "source": [
    "d=np.arange(10).reshape(2,5)\n",
    "d"
   ]
  },
  {
   "cell_type": "markdown",
   "id": "e0487a2d-7aba-4874-84ca-0c71e2200b09",
   "metadata": {},
   "source": [
    "Shape = (m*n) where m = no. of rows, n = no. of columns"
   ]
  },
  {
   "cell_type": "code",
   "execution_count": 75,
   "id": "52ed0037-48a6-43f4-9c06-c85ac42c3c7f",
   "metadata": {},
   "outputs": [
    {
     "data": {
      "text/plain": [
       "(2, 5)"
      ]
     },
     "execution_count": 75,
     "metadata": {},
     "output_type": "execute_result"
    }
   ],
   "source": [
    "d.shape"
   ]
  },
  {
   "cell_type": "code",
   "execution_count": 77,
   "id": "b656140c-9719-4411-9ce8-217cdd3f167b",
   "metadata": {},
   "outputs": [
    {
     "data": {
      "text/plain": [
       "2"
      ]
     },
     "execution_count": 77,
     "metadata": {},
     "output_type": "execute_result"
    }
   ],
   "source": [
    "d.ndim"
   ]
  },
  {
   "cell_type": "code",
   "execution_count": 81,
   "id": "33fefb5e-f716-4438-a8f8-263afee953a0",
   "metadata": {},
   "outputs": [
    {
     "data": {
      "text/plain": [
       "dtype('int32')"
      ]
     },
     "execution_count": 81,
     "metadata": {},
     "output_type": "execute_result"
    }
   ],
   "source": [
    "d.dtype"
   ]
  },
  {
   "cell_type": "code",
   "execution_count": 82,
   "id": "6183c3b7-2d8c-4b7e-9e63-1d274c28ea9a",
   "metadata": {},
   "outputs": [
    {
     "data": {
      "text/plain": [
       "'int32'"
      ]
     },
     "execution_count": 82,
     "metadata": {},
     "output_type": "execute_result"
    }
   ],
   "source": [
    "d.dtype.name"
   ]
  },
  {
   "cell_type": "markdown",
   "id": "96560083-a5cf-4c8e-b6e5-f65627b6facb",
   "metadata": {},
   "source": [
    "__Difference b/n int32 and int64?__"
   ]
  },
  {
   "cell_type": "code",
   "execution_count": 87,
   "id": "da99f4c9-c1ab-4543-83a7-d130b5f4eab3",
   "metadata": {},
   "outputs": [
    {
     "data": {
      "text/plain": [
       "4"
      ]
     },
     "execution_count": 87,
     "metadata": {},
     "output_type": "execute_result"
    }
   ],
   "source": [
    "d.itemsize"
   ]
  },
  {
   "cell_type": "code",
   "execution_count": 88,
   "id": "81017a06-cc1a-4862-824a-149cba3fad9c",
   "metadata": {},
   "outputs": [
    {
     "data": {
      "text/plain": [
       "10"
      ]
     },
     "execution_count": 88,
     "metadata": {},
     "output_type": "execute_result"
    }
   ],
   "source": [
    "d.size"
   ]
  },
  {
   "cell_type": "code",
   "execution_count": 89,
   "id": "bd45ca87-e01a-4889-9fdc-fd4a86433969",
   "metadata": {},
   "outputs": [
    {
     "data": {
      "text/plain": [
       "numpy.ndarray"
      ]
     },
     "execution_count": 89,
     "metadata": {},
     "output_type": "execute_result"
    }
   ],
   "source": [
    "type(d)"
   ]
  },
  {
   "cell_type": "code",
   "execution_count": 91,
   "id": "1db18002-ce65-45bc-9bef-b2bb9d76910b",
   "metadata": {},
   "outputs": [
    {
     "data": {
      "text/plain": [
       "array([3, 4, 5])"
      ]
     },
     "execution_count": 91,
     "metadata": {},
     "output_type": "execute_result"
    }
   ],
   "source": [
    "e = np.array([3,4,5])\n",
    "e"
   ]
  },
  {
   "cell_type": "code",
   "execution_count": 93,
   "id": "e631d9bc-1069-46b5-809e-02f56e4846bb",
   "metadata": {},
   "outputs": [
    {
     "data": {
      "text/plain": [
       "'int32'"
      ]
     },
     "execution_count": 93,
     "metadata": {},
     "output_type": "execute_result"
    }
   ],
   "source": [
    "e.dtype.name"
   ]
  },
  {
   "cell_type": "code",
   "execution_count": 95,
   "id": "3163d4ee-d2d4-47c2-b2ab-7368ec15ae57",
   "metadata": {},
   "outputs": [
    {
     "data": {
      "text/plain": [
       "array([3.5, 4.5, 6.7])"
      ]
     },
     "execution_count": 95,
     "metadata": {},
     "output_type": "execute_result"
    }
   ],
   "source": [
    "f = np.array([3.5, 4.5, 6.7])\n",
    "f"
   ]
  },
  {
   "cell_type": "code",
   "execution_count": 96,
   "id": "744e2208-2daf-448d-b1c1-88fee555b4d4",
   "metadata": {},
   "outputs": [
    {
     "data": {
      "text/plain": [
       "'float64'"
      ]
     },
     "execution_count": 96,
     "metadata": {},
     "output_type": "execute_result"
    }
   ],
   "source": [
    "f.dtype.name"
   ]
  },
  {
   "cell_type": "code",
   "execution_count": 99,
   "id": "d1d14562-1adb-4924-be0b-0b0b4e3177eb",
   "metadata": {},
   "outputs": [],
   "source": [
    "g = np.array([[1,2,3],\n",
    "             [4,5,6],\n",
    "             [7,8,9]])"
   ]
  },
  {
   "cell_type": "code",
   "execution_count": 100,
   "id": "6e301872-3dee-4473-a010-507a845834c1",
   "metadata": {},
   "outputs": [
    {
     "data": {
      "text/plain": [
       "(3, 3)"
      ]
     },
     "execution_count": 100,
     "metadata": {},
     "output_type": "execute_result"
    }
   ],
   "source": [
    "g.shape"
   ]
  },
  {
   "cell_type": "code",
   "execution_count": 103,
   "id": "07bffcb7-a459-4fa0-89f2-95ed41d52c07",
   "metadata": {},
   "outputs": [
    {
     "data": {
      "text/plain": [
       "array([[0, 0, 0, 0, 0],\n",
       "       [0, 0, 0, 0, 0],\n",
       "       [0, 0, 0, 0, 0],\n",
       "       [0, 0, 0, 0, 0]])"
      ]
     },
     "execution_count": 103,
     "metadata": {},
     "output_type": "execute_result"
    }
   ],
   "source": [
    "np.zeros((4,5), int)"
   ]
  },
  {
   "cell_type": "code",
   "execution_count": 106,
   "id": "ac442d6e-74c5-4055-ba4f-af7029f1bd6d",
   "metadata": {},
   "outputs": [
    {
     "data": {
      "text/plain": [
       "array([[9.83203465e-312, 3.16202013e-322, 0.00000000e+000,\n",
       "        0.00000000e+000],\n",
       "       [1.11260619e-306, 1.48972247e+161, 1.71093641e-052,\n",
       "        8.76470297e+169],\n",
       "       [3.60437380e+175, 4.39722238e+175, 9.30263746e+165,\n",
       "        1.16279295e+165]])"
      ]
     },
     "execution_count": 106,
     "metadata": {},
     "output_type": "execute_result"
    }
   ],
   "source": [
    "np.empty((3,4))"
   ]
  },
  {
   "cell_type": "code",
   "execution_count": 117,
   "id": "2b468063-b2d2-40b7-b350-fa26ef4184d3",
   "metadata": {},
   "outputs": [
    {
     "data": {
      "text/plain": [
       "array([10. , 10.5, 11. , 11.5, 12. , 12.5, 13. , 13.5, 14. , 14.5, 15. ,\n",
       "       15.5, 16. , 16.5, 17. , 17.5, 18. , 18.5, 19. , 19.5, 20. , 20.5,\n",
       "       21. , 21.5, 22. , 22.5, 23. , 23.5, 24. , 24.5])"
      ]
     },
     "execution_count": 117,
     "metadata": {},
     "output_type": "execute_result"
    }
   ],
   "source": [
    "np.arange(10,25,0.5)"
   ]
  },
  {
   "cell_type": "markdown",
   "id": "2e1c62b4-e010-4dcf-84e2-7b8e75ce151a",
   "metadata": {},
   "source": [
    "When arange is used with floating point arguments, it is generally not possible to predict the number of elements <br>\n",
    "linspace receives as an argument the number of elements that we want"
   ]
  },
  {
   "cell_type": "code",
   "execution_count": 119,
   "id": "7f0f2e38-2f79-4575-9697-b194284293b5",
   "metadata": {},
   "outputs": [],
   "source": [
    "from numpy import pi"
   ]
  },
  {
   "cell_type": "code",
   "execution_count": 124,
   "id": "cdf8a655-a37f-4172-9904-8040d57b6f49",
   "metadata": {},
   "outputs": [
    {
     "data": {
      "text/plain": [
       "array([0.        , 0.33333333, 0.66666667, 1.        , 1.33333333,\n",
       "       1.66666667, 2.        ])"
      ]
     },
     "execution_count": 124,
     "metadata": {},
     "output_type": "execute_result"
    }
   ],
   "source": [
    "np.linspace(0,2,7)"
   ]
  },
  {
   "cell_type": "code",
   "execution_count": 127,
   "id": "77810ac9-3b95-46a8-ac3c-9ca22e58e58a",
   "metadata": {},
   "outputs": [],
   "source": [
    "x = np.linspace(0, 2 * pi, 100)\n",
    "y = np.sin(x)"
   ]
  },
  {
   "cell_type": "code",
   "execution_count": 129,
   "id": "c74ce6ae-87ef-4a16-ade8-b3effdf8ea3b",
   "metadata": {},
   "outputs": [],
   "source": [
    "x = pi"
   ]
  },
  {
   "cell_type": "code",
   "execution_count": 130,
   "id": "cd9af4c4-3797-4b54-a535-a9ec3cc26f35",
   "metadata": {},
   "outputs": [
    {
     "data": {
      "text/plain": [
       "3.141592653589793"
      ]
     },
     "execution_count": 130,
     "metadata": {},
     "output_type": "execute_result"
    }
   ],
   "source": [
    "x"
   ]
  },
  {
   "cell_type": "code",
   "execution_count": 131,
   "id": "5e305898-5882-416c-8108-f8d71b9593cd",
   "metadata": {},
   "outputs": [
    {
     "data": {
      "text/plain": [
       "array([0, 1, 2, 3, 4, 5, 6, 7, 8, 9])"
      ]
     },
     "execution_count": 131,
     "metadata": {},
     "output_type": "execute_result"
    }
   ],
   "source": [
    "f=np.arange(10)\n",
    "f"
   ]
  },
  {
   "cell_type": "code",
   "execution_count": 132,
   "id": "8aa3097d-8230-4127-87a3-6ef420c89646",
   "metadata": {},
   "outputs": [
    {
     "name": "stdout",
     "output_type": "stream",
     "text": [
      "[0 1 2 3 4 5 6 7 8 9]\n"
     ]
    }
   ],
   "source": [
    "print(f)"
   ]
  },
  {
   "cell_type": "code",
   "execution_count": 133,
   "id": "2f50743c-d34c-4da7-a301-d6747e350e42",
   "metadata": {},
   "outputs": [
    {
     "data": {
      "text/plain": [
       "array([0, 1, 2, 3, 4, 5, 6, 7, 8, 9])"
      ]
     },
     "metadata": {},
     "output_type": "display_data"
    }
   ],
   "source": [
    "display(f)"
   ]
  },
  {
   "cell_type": "code",
   "execution_count": 135,
   "id": "c8192ce6-3fab-4457-b196-861a31f6af36",
   "metadata": {},
   "outputs": [
    {
     "name": "stdout",
     "output_type": "stream",
     "text": [
      "[[ 0  1  2  3]\n",
      " [ 4  5  6  7]\n",
      " [ 8  9 10 11]\n",
      " [12 13 14 15]\n",
      " [16 17 18 19]]\n"
     ]
    }
   ],
   "source": [
    "g=np.arange(20).reshape(5,4)\n",
    "print(g)"
   ]
  },
  {
   "cell_type": "code",
   "execution_count": 138,
   "id": "3fcfab4a-8da0-4c20-a00d-0ee63a49e1b3",
   "metadata": {},
   "outputs": [
    {
     "name": "stdout",
     "output_type": "stream",
     "text": [
      "[[[ 0  1  2]\n",
      "  [ 3  4  5]\n",
      "  [ 6  7  8]]\n",
      "\n",
      " [[ 9 10 11]\n",
      "  [12 13 14]\n",
      "  [15 16 17]]\n",
      "\n",
      " [[18 19 20]\n",
      "  [21 22 23]\n",
      "  [24 25 26]]]\n"
     ]
    }
   ],
   "source": [
    "h=np.arange(27).reshape(3,3,3)\n",
    "print(h)"
   ]
  },
  {
   "cell_type": "code",
   "execution_count": 139,
   "id": "f30ba341-9dd3-47be-81aa-3727d6e103d2",
   "metadata": {},
   "outputs": [
    {
     "data": {
      "text/plain": [
       "array([[[ 0,  1,  2],\n",
       "        [ 3,  4,  5],\n",
       "        [ 6,  7,  8]],\n",
       "\n",
       "       [[ 9, 10, 11],\n",
       "        [12, 13, 14],\n",
       "        [15, 16, 17]],\n",
       "\n",
       "       [[18, 19, 20],\n",
       "        [21, 22, 23],\n",
       "        [24, 25, 26]]])"
      ]
     },
     "execution_count": 139,
     "metadata": {},
     "output_type": "execute_result"
    }
   ],
   "source": [
    "h"
   ]
  },
  {
   "cell_type": "code",
   "execution_count": 140,
   "id": "b4046b51-aff9-492e-b03a-f7624fe00c8d",
   "metadata": {},
   "outputs": [
    {
     "name": "stdout",
     "output_type": "stream",
     "text": [
      "[    0     1     2 ... 99997 99998 99999]\n"
     ]
    }
   ],
   "source": [
    "print(np.arange(100000))"
   ]
  },
  {
   "cell_type": "code",
   "execution_count": 142,
   "id": "e744ddd3-74ba-4c92-8fc8-f8a149526b7b",
   "metadata": {},
   "outputs": [
    {
     "name": "stdout",
     "output_type": "stream",
     "text": [
      "[[     0      1      2 ...    997    998    999]\n",
      " [  1000   1001   1002 ...   1997   1998   1999]\n",
      " [  2000   2001   2002 ...   2997   2998   2999]\n",
      " ...\n",
      " [997000 997001 997002 ... 997997 997998 997999]\n",
      " [998000 998001 998002 ... 998997 998998 998999]\n",
      " [999000 999001 999002 ... 999997 999998 999999]]\n"
     ]
    }
   ],
   "source": [
    "print(np.arange(1000000).reshape(1000, 1000))"
   ]
  },
  {
   "cell_type": "markdown",
   "id": "821e31f3-13ec-4d8e-923c-7b4b84e45ce6",
   "metadata": {},
   "source": [
    "To force NumPy to print the entire array, we can change the printing options using set_printoptions. <br>\n",
    "\n",
    "np.set_printoptions(threshold=sys.maxsize) <br>\n",
    "\n",
    " sys module should be imported\n"
   ]
  },
  {
   "cell_type": "code",
   "execution_count": 145,
   "id": "17af685a-2347-4775-9855-5c48a380e6b2",
   "metadata": {},
   "outputs": [],
   "source": [
    "i = np.array([10,20,20,40])"
   ]
  },
  {
   "cell_type": "code",
   "execution_count": 146,
   "id": "7a2bd8c4-b07c-4004-8621-fd23bd8d71fa",
   "metadata": {},
   "outputs": [
    {
     "data": {
      "text/plain": [
       "array([0, 1, 2, 3])"
      ]
     },
     "execution_count": 146,
     "metadata": {},
     "output_type": "execute_result"
    }
   ],
   "source": [
    "j=np.arange(4)\n",
    "j"
   ]
  },
  {
   "cell_type": "code",
   "execution_count": 148,
   "id": "6698074c-6655-451b-b108-a5b310950d3e",
   "metadata": {},
   "outputs": [
    {
     "data": {
      "text/plain": [
       "array([10, 19, 18, 37])"
      ]
     },
     "execution_count": 148,
     "metadata": {},
     "output_type": "execute_result"
    }
   ],
   "source": [
    "h=i-j\n",
    "h"
   ]
  },
  {
   "cell_type": "code",
   "execution_count": 149,
   "id": "4f2e4512-f573-4983-884a-1d6c77143440",
   "metadata": {},
   "outputs": [
    {
     "data": {
      "text/plain": [
       "array([ 0,  4,  8, 12])"
      ]
     },
     "execution_count": 149,
     "metadata": {},
     "output_type": "execute_result"
    }
   ],
   "source": [
    "j*4"
   ]
  },
  {
   "cell_type": "code",
   "execution_count": 150,
   "id": "78e64f06-6959-4aad-bfaf-c4d9d809266d",
   "metadata": {},
   "outputs": [
    {
     "data": {
      "text/plain": [
       "array([-10.88042222,  18.25890501,  18.25890501,  14.90226321])"
      ]
     },
     "execution_count": 150,
     "metadata": {},
     "output_type": "execute_result"
    }
   ],
   "source": [
    "20*np.sin(i)"
   ]
  },
  {
   "cell_type": "code",
   "execution_count": 153,
   "id": "c3b93654-7952-4e36-aab2-9cd1e0c9cbfb",
   "metadata": {},
   "outputs": [
    {
     "data": {
      "text/plain": [
       "array([3.32192809, 4.24792751, 4.169925  , 5.20945337])"
      ]
     },
     "execution_count": 153,
     "metadata": {},
     "output_type": "execute_result"
    }
   ],
   "source": [
    "np.log2(h)"
   ]
  },
  {
   "cell_type": "code",
   "execution_count": 156,
   "id": "a56091e4-df20-4aff-a870-095b512143a0",
   "metadata": {},
   "outputs": [
    {
     "data": {
      "text/plain": [
       "array([False,  True, False, False])"
      ]
     },
     "execution_count": 156,
     "metadata": {},
     "output_type": "execute_result"
    }
   ],
   "source": [
    "j==1"
   ]
  },
  {
   "cell_type": "markdown",
   "id": "77a0400c-362e-4141-b861-ec6b1324028c",
   "metadata": {},
   "source": [
    "_The product operator * operates elementwise in NumPy arrays_<br>\n",
    "_The matrix product can be performed using the @ operator (in python >=3.5) or the dot function or method_"
   ]
  },
  {
   "cell_type": "code",
   "execution_count": 158,
   "id": "e6010673-06fe-48b1-9e0f-3a1cb2c740dc",
   "metadata": {},
   "outputs": [],
   "source": [
    "A = np.array([[1, 0],\n",
    "              [0, 1]])"
   ]
  },
  {
   "cell_type": "code",
   "execution_count": 157,
   "id": "1b82cbbe-1c4d-478d-b2c8-e9b821df85f6",
   "metadata": {},
   "outputs": [],
   "source": [
    "B = np.array([[2, 0],\n",
    "              [3, 5]])"
   ]
  },
  {
   "cell_type": "code",
   "execution_count": 160,
   "id": "fd7f0b2f-7c07-4015-b802-c1cb6bb828cb",
   "metadata": {},
   "outputs": [
    {
     "data": {
      "text/plain": [
       "array([[2, 0],\n",
       "       [0, 5]])"
      ]
     },
     "execution_count": 160,
     "metadata": {},
     "output_type": "execute_result"
    }
   ],
   "source": [
    "A*B # elementwise product"
   ]
  },
  {
   "cell_type": "code",
   "execution_count": 164,
   "id": "e1b7cd00-884f-47a0-aa74-76ffa721286f",
   "metadata": {},
   "outputs": [
    {
     "data": {
      "text/plain": [
       "array([[2, 0],\n",
       "       [3, 5]])"
      ]
     },
     "execution_count": 164,
     "metadata": {},
     "output_type": "execute_result"
    }
   ],
   "source": [
    "A @ B # matrix product"
   ]
  },
  {
   "cell_type": "code",
   "execution_count": 165,
   "id": "7c4b6288-6fe8-47b8-99e0-79883164bddb",
   "metadata": {},
   "outputs": [
    {
     "data": {
      "text/plain": [
       "array([[2, 0],\n",
       "       [3, 5]])"
      ]
     },
     "execution_count": 165,
     "metadata": {},
     "output_type": "execute_result"
    }
   ],
   "source": [
    "A.dot(B)# matrix product"
   ]
  },
  {
   "cell_type": "code",
   "execution_count": 166,
   "id": "cef77f97-03b9-4a73-849f-fddc21866980",
   "metadata": {},
   "outputs": [
    {
     "data": {
      "text/plain": [
       "array([[2, 0],\n",
       "       [3, 5]])"
      ]
     },
     "execution_count": 166,
     "metadata": {},
     "output_type": "execute_result"
    }
   ],
   "source": [
    "B.dot(A)# matrix product"
   ]
  },
  {
   "cell_type": "code",
   "execution_count": 48,
   "id": "363abd97-6413-4dd2-b016-5bd9fe8b3ec1",
   "metadata": {},
   "outputs": [],
   "source": [
    "rng=np.random.default_rng(1)"
   ]
  },
  {
   "cell_type": "code",
   "execution_count": 195,
   "id": "1c15a2e2-0103-4e5c-81aa-ef12b1bd5343",
   "metadata": {},
   "outputs": [
    {
     "data": {
      "text/plain": [
       "array([[1, 1, 1],\n",
       "       [1, 1, 1]])"
      ]
     },
     "execution_count": 195,
     "metadata": {},
     "output_type": "execute_result"
    }
   ],
   "source": [
    "k=np.ones((2,3), int)\n",
    "k"
   ]
  },
  {
   "cell_type": "code",
   "execution_count": 196,
   "id": "88819732-f566-43b5-815a-0d71755e4945",
   "metadata": {},
   "outputs": [
    {
     "data": {
      "text/plain": [
       "array([[0.51182162, 0.9504637 , 0.14415961],\n",
       "       [0.94864945, 0.31183145, 0.42332645]])"
      ]
     },
     "execution_count": 196,
     "metadata": {},
     "output_type": "execute_result"
    }
   ],
   "source": [
    "l=rng.random((2,3))\n",
    "l"
   ]
  },
  {
   "cell_type": "code",
   "execution_count": 197,
   "id": "9bb6ff36-6630-44f5-bb0b-bac625b5b94a",
   "metadata": {},
   "outputs": [
    {
     "ename": "TypeError",
     "evalue": "Unsupported dtype dtype('int32') for random",
     "output_type": "error",
     "traceback": [
      "\u001b[1;31m---------------------------------------------------------------------------\u001b[0m",
      "\u001b[1;31mTypeError\u001b[0m                                 Traceback (most recent call last)",
      "\u001b[1;32m~\\AppData\\Local\\Temp/ipykernel_29540/2511496342.py\u001b[0m in \u001b[0;36m<module>\u001b[1;34m\u001b[0m\n\u001b[1;32m----> 1\u001b[1;33m \u001b[0ml\u001b[0m\u001b[1;33m=\u001b[0m\u001b[0mrng\u001b[0m\u001b[1;33m.\u001b[0m\u001b[0mrandom\u001b[0m\u001b[1;33m(\u001b[0m\u001b[1;33m(\u001b[0m\u001b[1;36m2\u001b[0m\u001b[1;33m,\u001b[0m\u001b[1;36m3\u001b[0m\u001b[1;33m)\u001b[0m\u001b[1;33m,\u001b[0m \u001b[0mint\u001b[0m\u001b[1;33m)\u001b[0m\u001b[1;33m\u001b[0m\u001b[1;33m\u001b[0m\u001b[0m\n\u001b[0m",
      "\u001b[1;32m_generator.pyx\u001b[0m in \u001b[0;36mnumpy.random._generator.Generator.random\u001b[1;34m()\u001b[0m\n",
      "\u001b[1;31mTypeError\u001b[0m: Unsupported dtype dtype('int32') for random"
     ]
    }
   ],
   "source": [
    "l=rng.random((2,3), int)"
   ]
  },
  {
   "cell_type": "code",
   "execution_count": 198,
   "id": "f9fba3e2-f067-40bc-a940-aaecacd9ae86",
   "metadata": {},
   "outputs": [
    {
     "data": {
      "text/plain": [
       "array([[5, 5, 5],\n",
       "       [5, 5, 5]])"
      ]
     },
     "execution_count": 198,
     "metadata": {},
     "output_type": "execute_result"
    }
   ],
   "source": [
    "k*=5\n",
    "k"
   ]
  },
  {
   "cell_type": "code",
   "execution_count": 199,
   "id": "be13b531-0e20-48d5-94aa-95ac78fa35a9",
   "metadata": {},
   "outputs": [
    {
     "data": {
      "text/plain": [
       "array([[5.51182162, 5.9504637 , 5.14415961],\n",
       "       [5.94864945, 5.31183145, 5.42332645]])"
      ]
     },
     "execution_count": 199,
     "metadata": {},
     "output_type": "execute_result"
    }
   ],
   "source": [
    "l+=k\n",
    "l"
   ]
  },
  {
   "cell_type": "code",
   "execution_count": 200,
   "id": "f536afcc-d267-4b88-be86-10782211801a",
   "metadata": {},
   "outputs": [
    {
     "ename": "UFuncTypeError",
     "evalue": "Cannot cast ufunc 'add' output from dtype('float64') to dtype('int32') with casting rule 'same_kind'",
     "output_type": "error",
     "traceback": [
      "\u001b[1;31m---------------------------------------------------------------------------\u001b[0m",
      "\u001b[1;31mUFuncTypeError\u001b[0m                            Traceback (most recent call last)",
      "\u001b[1;32m~\\AppData\\Local\\Temp/ipykernel_29540/2661454251.py\u001b[0m in \u001b[0;36m<module>\u001b[1;34m\u001b[0m\n\u001b[1;32m----> 1\u001b[1;33m \u001b[0mk\u001b[0m\u001b[1;33m+=\u001b[0m\u001b[0ml\u001b[0m\u001b[1;33m\u001b[0m\u001b[1;33m\u001b[0m\u001b[0m\n\u001b[0m\u001b[0;32m      2\u001b[0m \u001b[0mk\u001b[0m\u001b[1;33m\u001b[0m\u001b[1;33m\u001b[0m\u001b[0m\n",
      "\u001b[1;31mUFuncTypeError\u001b[0m: Cannot cast ufunc 'add' output from dtype('float64') to dtype('int32') with casting rule 'same_kind'"
     ]
    }
   ],
   "source": [
    "k+=l\n",
    "k"
   ]
  },
  {
   "cell_type": "code",
   "execution_count": 201,
   "id": "9632a2fb-4312-4bb9-a1ea-6017cfdb32b1",
   "metadata": {},
   "outputs": [],
   "source": [
    "m=np.ones(3, int)"
   ]
  },
  {
   "cell_type": "code",
   "execution_count": 202,
   "id": "954831ae-0b5b-40ad-be1f-20e75279de9d",
   "metadata": {},
   "outputs": [
    {
     "data": {
      "text/plain": [
       "'float64'"
      ]
     },
     "execution_count": 202,
     "metadata": {},
     "output_type": "execute_result"
    }
   ],
   "source": [
    "n=np.linspace(0, pi,3)\n",
    "n.dtype.name"
   ]
  },
  {
   "cell_type": "code",
   "execution_count": 204,
   "id": "7192862c-6f18-4efb-956a-6816b48d0614",
   "metadata": {},
   "outputs": [
    {
     "data": {
      "text/plain": [
       "array([1.        , 2.57079633, 4.14159265])"
      ]
     },
     "execution_count": 204,
     "metadata": {},
     "output_type": "execute_result"
    }
   ],
   "source": [
    "o=m+n\n",
    "o"
   ]
  },
  {
   "cell_type": "code",
   "execution_count": 205,
   "id": "6cead940-d139-4413-aff3-6a96bab1f546",
   "metadata": {},
   "outputs": [
    {
     "data": {
      "text/plain": [
       "'float64'"
      ]
     },
     "execution_count": 205,
     "metadata": {},
     "output_type": "execute_result"
    }
   ],
   "source": [
    "o.dtype.name"
   ]
  },
  {
   "cell_type": "code",
   "execution_count": 215,
   "id": "75df6eec-92a2-41c7-8ad7-fd5588377e2f",
   "metadata": {},
   "outputs": [
    {
     "data": {
      "text/plain": [
       "array([ 0.54030231+0.84147098j, -0.84147098+0.54030231j,\n",
       "       -0.54030231-0.84147098j])"
      ]
     },
     "execution_count": 215,
     "metadata": {},
     "output_type": "execute_result"
    }
   ],
   "source": [
    "p=np.exp(o*1j)\n",
    "p"
   ]
  },
  {
   "cell_type": "code",
   "execution_count": 216,
   "id": "7d46a083-0040-4393-9784-125a92253852",
   "metadata": {},
   "outputs": [
    {
     "data": {
      "text/plain": [
       "'complex128'"
      ]
     },
     "execution_count": 216,
     "metadata": {},
     "output_type": "execute_result"
    }
   ],
   "source": [
    "p.dtype.name"
   ]
  },
  {
   "cell_type": "code",
   "execution_count": 219,
   "id": "6f1d294a-56f8-45e6-bac2-44d075d37100",
   "metadata": {},
   "outputs": [
    {
     "data": {
      "text/plain": [
       "array([ 2.71828183, 13.07623325, 62.90292428])"
      ]
     },
     "execution_count": 219,
     "metadata": {},
     "output_type": "execute_result"
    }
   ],
   "source": [
    "np.exp(o)##?"
   ]
  },
  {
   "cell_type": "code",
   "execution_count": 221,
   "id": "32c02165-dc8e-4beb-b6f8-12762841cc66",
   "metadata": {},
   "outputs": [
    {
     "data": {
      "text/plain": [
       "array([[0.82770259, 0.40919914, 0.54959369],\n",
       "       [0.02755911, 0.75351311, 0.53814331]])"
      ]
     },
     "execution_count": 221,
     "metadata": {},
     "output_type": "execute_result"
    }
   ],
   "source": [
    "q=rng.random((2,3))\n",
    "q"
   ]
  },
  {
   "cell_type": "code",
   "execution_count": 225,
   "id": "e5ddf711-dbd3-438e-850b-1debdb24d54b",
   "metadata": {},
   "outputs": [
    {
     "data": {
      "text/plain": [
       "3.1057109529998157"
      ]
     },
     "execution_count": 225,
     "metadata": {},
     "output_type": "execute_result"
    }
   ],
   "source": [
    "q.sum() # sum of all the elements"
   ]
  },
  {
   "cell_type": "code",
   "execution_count": 226,
   "id": "7b1a6304-8b1b-4660-87b4-e3e4327edc5d",
   "metadata": {},
   "outputs": [
    {
     "data": {
      "text/plain": [
       "0.027559113243068367"
      ]
     },
     "execution_count": 226,
     "metadata": {},
     "output_type": "execute_result"
    }
   ],
   "source": [
    "q.min() #min element"
   ]
  },
  {
   "cell_type": "code",
   "execution_count": 227,
   "id": "aebf907c-5b0a-4859-b5f8-18ff1cdafc95",
   "metadata": {},
   "outputs": [
    {
     "data": {
      "text/plain": [
       "0.8277025938204418"
      ]
     },
     "execution_count": 227,
     "metadata": {},
     "output_type": "execute_result"
    }
   ],
   "source": [
    "q.max() #max element"
   ]
  },
  {
   "cell_type": "code",
   "execution_count": 229,
   "id": "30e03a53-6112-443b-83ee-7f6f08b98502",
   "metadata": {},
   "outputs": [
    {
     "data": {
      "text/plain": [
       "array([[ 0,  1,  2],\n",
       "       [ 3,  4,  5],\n",
       "       [ 6,  7,  8],\n",
       "       [ 9, 10, 11]])"
      ]
     },
     "execution_count": 229,
     "metadata": {},
     "output_type": "execute_result"
    }
   ],
   "source": [
    "r=np.arange(12).reshape(4,3)\n",
    "r"
   ]
  },
  {
   "cell_type": "code",
   "execution_count": 230,
   "id": "59911366-e5ae-43a1-889d-6525cd32c86c",
   "metadata": {},
   "outputs": [
    {
     "data": {
      "text/plain": [
       "66"
      ]
     },
     "execution_count": 230,
     "metadata": {},
     "output_type": "execute_result"
    }
   ],
   "source": [
    "r.sum()"
   ]
  },
  {
   "cell_type": "code",
   "execution_count": 231,
   "id": "629979d6-67c2-4cd9-b451-09e4b7bf38d8",
   "metadata": {},
   "outputs": [
    {
     "data": {
      "text/plain": [
       "array([18, 22, 26])"
      ]
     },
     "execution_count": 231,
     "metadata": {},
     "output_type": "execute_result"
    }
   ],
   "source": [
    "r.sum(axis=0) # sum of each column"
   ]
  },
  {
   "cell_type": "code",
   "execution_count": 233,
   "id": "a432cc24-c2e7-488b-9bd9-dac448731419",
   "metadata": {},
   "outputs": [
    {
     "data": {
      "text/plain": [
       "array([ 3, 12, 21, 30])"
      ]
     },
     "execution_count": 233,
     "metadata": {},
     "output_type": "execute_result"
    }
   ],
   "source": [
    "r.sum(axis=1)  # sum of each row "
   ]
  },
  {
   "cell_type": "code",
   "execution_count": 235,
   "id": "ebac1286-edb7-42cc-ada4-b1bba091ece4",
   "metadata": {},
   "outputs": [
    {
     "data": {
      "text/plain": [
       "array([0, 1, 2])"
      ]
     },
     "execution_count": 235,
     "metadata": {},
     "output_type": "execute_result"
    }
   ],
   "source": [
    "r.min(axis=0)"
   ]
  },
  {
   "cell_type": "code",
   "execution_count": 237,
   "id": "06de5bc6-0683-43d1-88e8-ac80e4101643",
   "metadata": {},
   "outputs": [
    {
     "data": {
      "text/plain": [
       "array([[ 0,  1,  2],\n",
       "       [ 3,  5,  7],\n",
       "       [ 9, 12, 15],\n",
       "       [18, 22, 26]], dtype=int32)"
      ]
     },
     "execution_count": 237,
     "metadata": {},
     "output_type": "execute_result"
    }
   ],
   "source": [
    "r.cumsum(axis=0) # cumulative sum along each column"
   ]
  },
  {
   "cell_type": "code",
   "execution_count": 238,
   "id": "8698cbb7-a53c-4a5c-8270-ef3c140a952e",
   "metadata": {},
   "outputs": [
    {
     "data": {
      "text/plain": [
       "array([[ 0,  1,  3],\n",
       "       [ 3,  7, 12],\n",
       "       [ 6, 13, 21],\n",
       "       [ 9, 19, 30]], dtype=int32)"
      ]
     },
     "execution_count": 238,
     "metadata": {},
     "output_type": "execute_result"
    }
   ],
   "source": [
    "r.cumsum(axis=1) # cumulative sum along each row"
   ]
  },
  {
   "cell_type": "code",
   "execution_count": 243,
   "id": "66c39919-28cb-4665-90d1-764c8980c5a0",
   "metadata": {},
   "outputs": [
    {
     "data": {
      "text/plain": [
       "array([0, 1, 2])"
      ]
     },
     "execution_count": 243,
     "metadata": {},
     "output_type": "execute_result"
    }
   ],
   "source": [
    "s= np.arange(3)\n",
    "s"
   ]
  },
  {
   "cell_type": "code",
   "execution_count": 250,
   "id": "d759738b-86c6-4133-85e2-d79b0aa98cd5",
   "metadata": {},
   "outputs": [
    {
     "data": {
      "text/plain": [
       "array([1.        , 2.71828183, 7.3890561 ])"
      ]
     },
     "execution_count": 250,
     "metadata": {},
     "output_type": "execute_result"
    }
   ],
   "source": [
    "t=np.exp(s)\n",
    "t"
   ]
  },
  {
   "cell_type": "code",
   "execution_count": 251,
   "id": "e2ff9f50-3758-4826-85e9-c96052f9e276",
   "metadata": {},
   "outputs": [
    {
     "data": {
      "text/plain": [
       "array([0.        , 1.44269504, 2.88539008])"
      ]
     },
     "execution_count": 251,
     "metadata": {},
     "output_type": "execute_result"
    }
   ],
   "source": [
    "np.log2(t)"
   ]
  },
  {
   "cell_type": "code",
   "execution_count": 252,
   "id": "e9aa0529-c5a5-4086-bc07-cfee3ea6b578",
   "metadata": {},
   "outputs": [
    {
     "data": {
      "text/plain": [
       "array([0.        , 1.        , 1.41421356])"
      ]
     },
     "execution_count": 252,
     "metadata": {},
     "output_type": "execute_result"
    }
   ],
   "source": [
    "np.sqrt(s)"
   ]
  },
  {
   "cell_type": "code",
   "execution_count": 253,
   "id": "bec3fe1b-07f1-4a53-b76f-c0fff3ddb7ca",
   "metadata": {},
   "outputs": [],
   "source": [
    "u=np.array([2.,-1.,4.])"
   ]
  },
  {
   "cell_type": "code",
   "execution_count": 254,
   "id": "ae9a91bb-1155-4360-beae-6472cdbbdf83",
   "metadata": {},
   "outputs": [
    {
     "data": {
      "text/plain": [
       "array([2., 0., 6.])"
      ]
     },
     "execution_count": 254,
     "metadata": {},
     "output_type": "execute_result"
    }
   ],
   "source": [
    "np.add(s,u)"
   ]
  },
  {
   "cell_type": "code",
   "execution_count": 12,
   "id": "780cf3ae-21b6-4d32-8f58-61d29882a5ca",
   "metadata": {},
   "outputs": [
    {
     "data": {
      "text/plain": [
       "array([  0,   1,   8,  27,  64, 125, 216, 343, 512, 729], dtype=int32)"
      ]
     },
     "execution_count": 12,
     "metadata": {},
     "output_type": "execute_result"
    }
   ],
   "source": [
    "v=np.arange(10)**3\n",
    "v"
   ]
  },
  {
   "cell_type": "code",
   "execution_count": 13,
   "id": "97512342-e686-4091-89bf-542a8121d49d",
   "metadata": {},
   "outputs": [
    {
     "data": {
      "text/plain": [
       "8"
      ]
     },
     "execution_count": 13,
     "metadata": {},
     "output_type": "execute_result"
    }
   ],
   "source": [
    "v[2]"
   ]
  },
  {
   "cell_type": "code",
   "execution_count": 14,
   "id": "f9fbb93e-f550-4bc7-a8a8-eb41f0dc8518",
   "metadata": {},
   "outputs": [
    {
     "data": {
      "text/plain": [
       "0"
      ]
     },
     "execution_count": 14,
     "metadata": {},
     "output_type": "execute_result"
    }
   ],
   "source": [
    "v[0]"
   ]
  },
  {
   "cell_type": "code",
   "execution_count": 15,
   "id": "0d9ac29d-e9e5-447e-bf8d-2ec8e0943cce",
   "metadata": {},
   "outputs": [
    {
     "ename": "IndexError",
     "evalue": "index 10 is out of bounds for axis 0 with size 10",
     "output_type": "error",
     "traceback": [
      "\u001b[1;31m---------------------------------------------------------------------------\u001b[0m",
      "\u001b[1;31mIndexError\u001b[0m                                Traceback (most recent call last)",
      "\u001b[1;32m~\\AppData\\Local\\Temp/ipykernel_16192/3052779042.py\u001b[0m in \u001b[0;36m<module>\u001b[1;34m\u001b[0m\n\u001b[1;32m----> 1\u001b[1;33m \u001b[0mv\u001b[0m\u001b[1;33m[\u001b[0m\u001b[1;36m10\u001b[0m\u001b[1;33m]\u001b[0m\u001b[1;33m\u001b[0m\u001b[1;33m\u001b[0m\u001b[0m\n\u001b[0m",
      "\u001b[1;31mIndexError\u001b[0m: index 10 is out of bounds for axis 0 with size 10"
     ]
    }
   ],
   "source": [
    "v[10]"
   ]
  },
  {
   "cell_type": "code",
   "execution_count": 16,
   "id": "a57c26c9-7c44-46d1-8c96-89dd1d5ab27c",
   "metadata": {},
   "outputs": [
    {
     "data": {
      "text/plain": [
       "729"
      ]
     },
     "execution_count": 16,
     "metadata": {},
     "output_type": "execute_result"
    }
   ],
   "source": [
    "v[9]"
   ]
  },
  {
   "cell_type": "code",
   "execution_count": 17,
   "id": "2bec29ec-56a8-4274-a07e-5c9dd710f0bd",
   "metadata": {},
   "outputs": [
    {
     "data": {
      "text/plain": [
       "array([ 0,  1,  8, 27], dtype=int32)"
      ]
     },
     "execution_count": 17,
     "metadata": {},
     "output_type": "execute_result"
    }
   ],
   "source": [
    "v[0:4]"
   ]
  },
  {
   "cell_type": "code",
   "execution_count": 18,
   "id": "38626aa8-7b9c-48c5-8a9d-54088d6f2b41",
   "metadata": {},
   "outputs": [
    {
     "data": {
      "text/plain": [
       "array([729, 512, 343, 216, 125,  64,  27,   8,   1,   0], dtype=int32)"
      ]
     },
     "execution_count": 18,
     "metadata": {},
     "output_type": "execute_result"
    }
   ],
   "source": [
    "v[::-1]"
   ]
  },
  {
   "cell_type": "code",
   "execution_count": 19,
   "id": "1a0a3615-d689-47ad-8a3f-4c3c0ad57d6b",
   "metadata": {},
   "outputs": [
    {
     "name": "stdout",
     "output_type": "stream",
     "text": [
      "0.0\n",
      "1.0\n",
      "2.0\n",
      "3.0\n",
      "3.9999999999999996\n",
      "5.0\n",
      "5.999999999999999\n",
      "6.999999999999999\n",
      "7.999999999999999\n",
      "8.999999999999998\n"
     ]
    }
   ],
   "source": [
    "for i in v:\n",
    "    print(i**(1/3.))"
   ]
  },
  {
   "cell_type": "code",
   "execution_count": 4,
   "id": "e62473b3-5937-4bc7-a6d9-c87e797c876c",
   "metadata": {},
   "outputs": [],
   "source": [
    "def f(x,y):\n",
    "    return 10*x+y"
   ]
  },
  {
   "cell_type": "code",
   "execution_count": 8,
   "id": "148068d6-6966-411a-92f4-b45c1e5236a3",
   "metadata": {},
   "outputs": [
    {
     "data": {
      "text/plain": [
       "array([[ 0,  1,  2],\n",
       "       [10, 11, 12]])"
      ]
     },
     "execution_count": 8,
     "metadata": {},
     "output_type": "execute_result"
    }
   ],
   "source": [
    "w = np.fromfunction(f,(2,3), dtype=int)\n",
    "w"
   ]
  },
  {
   "cell_type": "code",
   "execution_count": 10,
   "id": "db5b2099-779f-4212-a0fa-fd09f0b8c4d6",
   "metadata": {},
   "outputs": [
    {
     "data": {
      "text/plain": [
       "12"
      ]
     },
     "execution_count": 10,
     "metadata": {},
     "output_type": "execute_result"
    }
   ],
   "source": [
    "w[1,2]"
   ]
  },
  {
   "cell_type": "code",
   "execution_count": 19,
   "id": "05c0fb45-30bd-457f-9220-b8333a2f33e5",
   "metadata": {},
   "outputs": [
    {
     "data": {
      "text/plain": [
       "array([ 2, 12])"
      ]
     },
     "execution_count": 19,
     "metadata": {},
     "output_type": "execute_result"
    }
   ],
   "source": [
    "w[0:2,2] # each row in the third column of b"
   ]
  },
  {
   "cell_type": "code",
   "execution_count": 22,
   "id": "59083ed1-19aa-41ff-ac0a-7ad350eda678",
   "metadata": {},
   "outputs": [
    {
     "data": {
      "text/plain": [
       "array([ 2, 12])"
      ]
     },
     "execution_count": 22,
     "metadata": {},
     "output_type": "execute_result"
    }
   ],
   "source": [
    "w[:,2] # equivalent to the previous example"
   ]
  },
  {
   "cell_type": "code",
   "execution_count": 26,
   "id": "e3310f6a-8403-4749-95ef-efcc24372e3c",
   "metadata": {},
   "outputs": [
    {
     "data": {
      "text/plain": [
       "array([[10, 11, 12]])"
      ]
     },
     "execution_count": 26,
     "metadata": {},
     "output_type": "execute_result"
    }
   ],
   "source": [
    "w[1:2, :]# each column in the second row of b"
   ]
  },
  {
   "cell_type": "code",
   "execution_count": 27,
   "id": "d50b22c8-e137-4ce5-bcb8-5e26a0d5b314",
   "metadata": {},
   "outputs": [
    {
     "data": {
      "text/plain": [
       "array([10, 11, 12])"
      ]
     },
     "execution_count": 27,
     "metadata": {},
     "output_type": "execute_result"
    }
   ],
   "source": [
    "w[-1]  # the last row. Equivalent to w[-1, :]"
   ]
  },
  {
   "cell_type": "code",
   "execution_count": 28,
   "id": "04771e70-3b43-47cf-b14f-ab0841128a58",
   "metadata": {},
   "outputs": [
    {
     "data": {
      "text/plain": [
       "(2, 2, 3)"
      ]
     },
     "execution_count": 28,
     "metadata": {},
     "output_type": "execute_result"
    }
   ],
   "source": [
    "x=np.array([[[0,1,2],\n",
    "             [3,4,5]],\n",
    "            [[100,101,102],\n",
    "             [103,104,105]]])\n",
    "x.shape"
   ]
  },
  {
   "cell_type": "code",
   "execution_count": 29,
   "id": "76452c2a-fede-49e6-b2e8-f05891a7ce6f",
   "metadata": {},
   "outputs": [
    {
     "data": {
      "text/plain": [
       "array([[100, 101, 102],\n",
       "       [103, 104, 105]])"
      ]
     },
     "execution_count": 29,
     "metadata": {},
     "output_type": "execute_result"
    }
   ],
   "source": [
    "x[1,...]"
   ]
  },
  {
   "cell_type": "code",
   "execution_count": 30,
   "id": "9bb5bc43-d756-4c10-8b78-36caa0608f4d",
   "metadata": {},
   "outputs": [
    {
     "data": {
      "text/plain": [
       "array([[100, 101, 102],\n",
       "       [103, 104, 105]])"
      ]
     },
     "execution_count": 30,
     "metadata": {},
     "output_type": "execute_result"
    }
   ],
   "source": [
    "x[1]"
   ]
  },
  {
   "cell_type": "code",
   "execution_count": 31,
   "id": "1268b030-4c53-4565-ab85-a73fc71e3f7c",
   "metadata": {},
   "outputs": [
    {
     "data": {
      "text/plain": [
       "array([[100, 101, 102],\n",
       "       [103, 104, 105]])"
      ]
     },
     "execution_count": 31,
     "metadata": {},
     "output_type": "execute_result"
    }
   ],
   "source": [
    "x[1, :, :]"
   ]
  },
  {
   "cell_type": "code",
   "execution_count": 32,
   "id": "44f4fab3-6d30-4439-b0a3-9e9d5020c49b",
   "metadata": {},
   "outputs": [
    {
     "data": {
      "text/plain": [
       "array([[  2,   5],\n",
       "       [102, 105]])"
      ]
     },
     "execution_count": 32,
     "metadata": {},
     "output_type": "execute_result"
    }
   ],
   "source": [
    "x[...,2]  # same as x[:, :, 2]"
   ]
  },
  {
   "cell_type": "code",
   "execution_count": 35,
   "id": "82f61197-b871-40e6-a239-270dc80dc0ed",
   "metadata": {},
   "outputs": [
    {
     "data": {
      "text/plain": [
       "array([[  2,   5],\n",
       "       [102, 105]])"
      ]
     },
     "execution_count": 35,
     "metadata": {},
     "output_type": "execute_result"
    }
   ],
   "source": [
    "x[:,:,2]"
   ]
  },
  {
   "cell_type": "code",
   "execution_count": 34,
   "id": "8c515b79-78fb-4764-84a7-7ab4a60fe6e6",
   "metadata": {},
   "outputs": [
    {
     "data": {
      "text/plain": [
       "array([[0, 1, 2],\n",
       "       [3, 4, 5]])"
      ]
     },
     "execution_count": 34,
     "metadata": {},
     "output_type": "execute_result"
    }
   ],
   "source": [
    "x[0]"
   ]
  },
  {
   "cell_type": "code",
   "execution_count": 44,
   "id": "8ed0e8c5-4c51-4599-b16d-84e93dddb691",
   "metadata": {},
   "outputs": [
    {
     "name": "stdout",
     "output_type": "stream",
     "text": [
      "[[0 1 2]\n",
      " [3 4 5]]\n"
     ]
    }
   ],
   "source": [
    "for thing in x: #can call anything but \"row\" would be better.\n",
    "    print(thing)\n",
    "    break"
   ]
  },
  {
   "cell_type": "code",
   "execution_count": 43,
   "id": "1cf5395b-9eef-4cf2-bc63-53bd57b51343",
   "metadata": {},
   "outputs": [
    {
     "name": "stdout",
     "output_type": "stream",
     "text": [
      "0\n",
      "1\n",
      "2\n",
      "3\n",
      "4\n",
      "5\n",
      "100\n",
      "101\n",
      "102\n",
      "103\n",
      "104\n",
      "105\n"
     ]
    }
   ],
   "source": [
    "for thing in x.flat: #can call anything but \"element\" would be better.\n",
    "    print(thing)\n",
    "    # break"
   ]
  },
  {
   "cell_type": "code",
   "execution_count": 54,
   "id": "8b0f223b-0259-4ed8-b776-bd5ddef1a232",
   "metadata": {},
   "outputs": [
    {
     "data": {
      "text/plain": [
       "array([[ 2., 67., 91., 82., 88.],\n",
       "       [66., 24., 76., 21., 83.],\n",
       "       [ 6., 82., 16., 37., 31.]])"
      ]
     },
     "execution_count": 54,
     "metadata": {},
     "output_type": "execute_result"
    }
   ],
   "source": [
    "y=np.floor(100*rng.random((3,5)))\n",
    "y"
   ]
  },
  {
   "cell_type": "code",
   "execution_count": 55,
   "id": "56cb0e48-ca98-447a-9438-d9d7cad4e105",
   "metadata": {},
   "outputs": [
    {
     "data": {
      "text/plain": [
       "(3, 5)"
      ]
     },
     "execution_count": 55,
     "metadata": {},
     "output_type": "execute_result"
    }
   ],
   "source": [
    "y.shape"
   ]
  },
  {
   "cell_type": "code",
   "execution_count": 58,
   "id": "c2aa344b-e702-46b9-a330-b04073990a2b",
   "metadata": {},
   "outputs": [
    {
     "data": {
      "text/plain": [
       "array([ 2., 67., 91., 82., 88., 66., 24., 76., 21., 83.,  6., 82., 16.,\n",
       "       37., 31.])"
      ]
     },
     "execution_count": 58,
     "metadata": {},
     "output_type": "execute_result"
    }
   ],
   "source": [
    "y.ravel()"
   ]
  },
  {
   "cell_type": "code",
   "execution_count": 63,
   "id": "a373b5a2-a26b-49e4-affc-21682f497ce3",
   "metadata": {},
   "outputs": [
    {
     "data": {
      "text/plain": [
       "array([[ 2., 67., 91.],\n",
       "       [82., 88., 66.],\n",
       "       [24., 76., 21.],\n",
       "       [83.,  6., 82.],\n",
       "       [16., 37., 31.]])"
      ]
     },
     "execution_count": 63,
     "metadata": {},
     "output_type": "execute_result"
    }
   ],
   "source": [
    "y.reshape(5,3) #reshape (5,3) and Transpose gives diff results"
   ]
  },
  {
   "cell_type": "code",
   "execution_count": 60,
   "id": "26f8b68f-9172-4334-8587-7de690f51384",
   "metadata": {},
   "outputs": [
    {
     "data": {
      "text/plain": [
       "array([[ 2., 66.,  6.],\n",
       "       [67., 24., 82.],\n",
       "       [91., 76., 16.],\n",
       "       [82., 21., 37.],\n",
       "       [88., 83., 31.]])"
      ]
     },
     "execution_count": 60,
     "metadata": {},
     "output_type": "execute_result"
    }
   ],
   "source": [
    "y.T"
   ]
  },
  {
   "cell_type": "code",
   "execution_count": 84,
   "id": "c94225f2-981c-4402-895b-65b781271b07",
   "metadata": {},
   "outputs": [
    {
     "data": {
      "text/plain": [
       "(1, 15)"
      ]
     },
     "execution_count": 84,
     "metadata": {},
     "output_type": "execute_result"
    }
   ],
   "source": [
    "y.T.shape"
   ]
  },
  {
   "cell_type": "code",
   "execution_count": 85,
   "id": "3e49e5e1-eef9-47cc-8512-3578aa44ce69",
   "metadata": {},
   "outputs": [
    {
     "data": {
      "text/plain": [
       "(15, 1)"
      ]
     },
     "execution_count": 85,
     "metadata": {},
     "output_type": "execute_result"
    }
   ],
   "source": [
    "y.shape"
   ]
  },
  {
   "cell_type": "code",
   "execution_count": 86,
   "id": "2c31be7c-c8b6-45b0-88e1-59b6a6c1685f",
   "metadata": {},
   "outputs": [
    {
     "data": {
      "text/plain": [
       "array([[ 2.],\n",
       "       [67.],\n",
       "       [91.],\n",
       "       [82.],\n",
       "       [88.],\n",
       "       [66.],\n",
       "       [24.],\n",
       "       [76.],\n",
       "       [21.],\n",
       "       [83.],\n",
       "       [ 6.],\n",
       "       [82.],\n",
       "       [16.],\n",
       "       [37.],\n",
       "       [31.]])"
      ]
     },
     "execution_count": 86,
     "metadata": {},
     "output_type": "execute_result"
    }
   ],
   "source": [
    "y.resize((15,1))\n",
    "y"
   ]
  },
  {
   "cell_type": "code",
   "execution_count": 87,
   "id": "936d60e8-6404-4d7c-9713-7ed1e1b0fdd2",
   "metadata": {},
   "outputs": [
    {
     "data": {
      "text/plain": [
       "array([[ 2., 67., 91., 82., 88., 66., 24., 76., 21., 83.,  6., 82., 16.,\n",
       "        37., 31.]])"
      ]
     },
     "execution_count": 87,
     "metadata": {},
     "output_type": "execute_result"
    }
   ],
   "source": [
    "y.reshape(1,-4)"
   ]
  },
  {
   "cell_type": "markdown",
   "id": "434f6b33-5570-4562-9266-e312bad0e851",
   "metadata": {},
   "source": [
    " __did not understand this!!__"
   ]
  },
  {
   "cell_type": "code",
   "execution_count": 90,
   "id": "47e2c455-14e5-494a-85f5-e182cd5dcc5f",
   "metadata": {},
   "outputs": [
    {
     "data": {
      "text/plain": [
       "array([[2., 4.],\n",
       "       [1., 6.]])"
      ]
     },
     "execution_count": 90,
     "metadata": {},
     "output_type": "execute_result"
    }
   ],
   "source": [
    "z= np.floor(10*rng.random((2,2)))\n",
    "z"
   ]
  },
  {
   "cell_type": "code",
   "execution_count": 91,
   "id": "ff948425-dd2b-46e6-b59a-85d499323061",
   "metadata": {},
   "outputs": [
    {
     "data": {
      "text/plain": [
       "array([[3., 7.],\n",
       "       [6., 4.]])"
      ]
     },
     "execution_count": 91,
     "metadata": {},
     "output_type": "execute_result"
    }
   ],
   "source": [
    "A=np.floor(10*rng.random((2,2)))\n",
    "A"
   ]
  },
  {
   "cell_type": "code",
   "execution_count": 94,
   "id": "3be531dc-9534-45a0-9ec3-34c57b556057",
   "metadata": {},
   "outputs": [
    {
     "data": {
      "text/plain": [
       "array([[2., 4.],\n",
       "       [1., 6.],\n",
       "       [3., 7.],\n",
       "       [6., 4.]])"
      ]
     },
     "execution_count": 94,
     "metadata": {},
     "output_type": "execute_result"
    }
   ],
   "source": [
    "np.vstack((z,A))"
   ]
  },
  {
   "cell_type": "code",
   "execution_count": 97,
   "id": "7c7d9efa-1a7e-464b-8678-4b0a59ae5e0f",
   "metadata": {},
   "outputs": [
    {
     "data": {
      "text/plain": [
       "array([[2., 4., 3., 7.],\n",
       "       [1., 6., 6., 4.]])"
      ]
     },
     "execution_count": 97,
     "metadata": {},
     "output_type": "execute_result"
    }
   ],
   "source": [
    "np.hstack((z,A))"
   ]
  },
  {
   "cell_type": "code",
   "execution_count": 98,
   "id": "ec05e4ae-0c74-48db-a67d-35db306e2fb5",
   "metadata": {},
   "outputs": [
    {
     "data": {
      "text/plain": [
       "array([[3., 7., 2., 4.],\n",
       "       [6., 4., 1., 6.]])"
      ]
     },
     "execution_count": 98,
     "metadata": {},
     "output_type": "execute_result"
    }
   ],
   "source": [
    "np.hstack((A,z))"
   ]
  },
  {
   "cell_type": "code",
   "execution_count": 99,
   "id": "d8268431-a11c-4d47-8dbf-967b1b0b5a12",
   "metadata": {},
   "outputs": [
    {
     "data": {
      "text/plain": [
       "array([[2., 4., 3., 7.],\n",
       "       [1., 6., 6., 4.]])"
      ]
     },
     "execution_count": 99,
     "metadata": {},
     "output_type": "execute_result"
    }
   ],
   "source": [
    "np.column_stack((z,A))"
   ]
  },
  {
   "cell_type": "code",
   "execution_count": 100,
   "id": "700ed1d3-b500-42c1-8117-b9c77805754f",
   "metadata": {},
   "outputs": [],
   "source": [
    "B = np.array([4., 2.])"
   ]
  },
  {
   "cell_type": "code",
   "execution_count": 101,
   "id": "7b477c25-48e7-4e92-a0c9-bab0310a934c",
   "metadata": {},
   "outputs": [],
   "source": [
    "C = np.array([3., 8.])"
   ]
  },
  {
   "cell_type": "code",
   "execution_count": 103,
   "id": "f5789f55-39c4-471b-a6c8-f3adefa9dde3",
   "metadata": {},
   "outputs": [
    {
     "data": {
      "text/plain": [
       "array([[4., 3.],\n",
       "       [2., 8.]])"
      ]
     },
     "execution_count": 103,
     "metadata": {},
     "output_type": "execute_result"
    }
   ],
   "source": [
    "np.column_stack((B, C))"
   ]
  },
  {
   "cell_type": "code",
   "execution_count": 105,
   "id": "f03c5e2e-d2c1-43ba-a299-21b29714020c",
   "metadata": {},
   "outputs": [
    {
     "data": {
      "text/plain": [
       "array([4., 2., 3., 8.])"
      ]
     },
     "execution_count": 105,
     "metadata": {},
     "output_type": "execute_result"
    }
   ],
   "source": [
    "np.hstack((B, C))"
   ]
  },
  {
   "cell_type": "code",
   "execution_count": 108,
   "id": "9253ce0f-462f-4cac-afc5-0f003af3f89d",
   "metadata": {},
   "outputs": [
    {
     "ename": "NameError",
     "evalue": "name 'newaxis' is not defined",
     "output_type": "error",
     "traceback": [
      "\u001b[1;31m---------------------------------------------------------------------------\u001b[0m",
      "\u001b[1;31mNameError\u001b[0m                                 Traceback (most recent call last)",
      "\u001b[1;32m~\\AppData\\Local\\Temp/ipykernel_27940/799284216.py\u001b[0m in \u001b[0;36m<module>\u001b[1;34m\u001b[0m\n\u001b[1;32m----> 1\u001b[1;33m \u001b[0mB\u001b[0m\u001b[1;33m[\u001b[0m\u001b[1;33m:\u001b[0m\u001b[1;33m,\u001b[0m \u001b[0mnewaxis\u001b[0m\u001b[1;33m]\u001b[0m\u001b[1;33m\u001b[0m\u001b[1;33m\u001b[0m\u001b[0m\n\u001b[0m",
      "\u001b[1;31mNameError\u001b[0m: name 'newaxis' is not defined"
     ]
    }
   ],
   "source": [
    "B[:, newaxis] "
   ]
  },
  {
   "cell_type": "markdown",
   "id": "12f495b5-eb50-4c95-8481-02852162b640",
   "metadata": {},
   "source": [
    "__\"Newaxis\" not defined error__"
   ]
  },
  {
   "cell_type": "code",
   "execution_count": null,
   "id": "9ad2e8e1-a9ec-45c4-bf45-9329e6aa3ef3",
   "metadata": {},
   "outputs": [
    {
     "data": {
      "text/plain": [
       "array([[4., 2.],\n",
       "       [3., 8.]])"
      ]
     },
     "execution_count": 106,
     "metadata": {},
     "output_type": "execute_result"
    }
   ],
   "source": [
    "np.row_stack((B, C)) #row_stack = vstack"
   ]
  },
  {
   "cell_type": "code",
   "execution_count": 109,
   "id": "ee00c838-00fc-41b2-8e98-6b8ad9f240a8",
   "metadata": {},
   "outputs": [
    {
     "data": {
      "text/plain": [
       "False"
      ]
     },
     "execution_count": 109,
     "metadata": {},
     "output_type": "execute_result"
    }
   ],
   "source": [
    "np.column_stack is np.hstack"
   ]
  },
  {
   "cell_type": "code",
   "execution_count": 110,
   "id": "4452a0a3-bdb3-47ae-b67c-74e018dd320b",
   "metadata": {},
   "outputs": [
    {
     "data": {
      "text/plain": [
       "True"
      ]
     },
     "execution_count": 110,
     "metadata": {},
     "output_type": "execute_result"
    }
   ],
   "source": [
    "np.row_stack is np.vstack"
   ]
  },
  {
   "cell_type": "markdown",
   "id": "4ee707c3-9ca3-4feb-9005-6a190a0e8fe9",
   "metadata": {},
   "source": [
    "__for arrays with more than two dimensions, hstack stacks along their second axes, vstack stacks along their first axes, and concatenate allows for an optional arguments giving the number of the axis along which the concatenation should happen__"
   ]
  },
  {
   "cell_type": "code",
   "execution_count": 111,
   "id": "386c57c8-9fb4-45dc-a6d6-29de4e1242f1",
   "metadata": {},
   "outputs": [
    {
     "data": {
      "text/plain": [
       "array([4., 2., 3., 8.])"
      ]
     },
     "execution_count": 111,
     "metadata": {},
     "output_type": "execute_result"
    }
   ],
   "source": [
    "np.concatenate((B,C))"
   ]
  },
  {
   "cell_type": "code",
   "execution_count": 115,
   "id": "4362b0c5-3cb0-4799-8aae-701c942c9490",
   "metadata": {},
   "outputs": [
    {
     "data": {
      "text/plain": [
       "array([ 1,  2,  3,  4,  5,  6,  7,  8,  9, 10])"
      ]
     },
     "execution_count": 115,
     "metadata": {},
     "output_type": "execute_result"
    }
   ],
   "source": [
    "np.r_[1:10, 10] #for complex cases use r_ and c_"
   ]
  },
  {
   "cell_type": "code",
   "execution_count": 118,
   "id": "1d7cc850-236a-40da-b051-3a981b09b0ed",
   "metadata": {},
   "outputs": [
    {
     "data": {
      "text/plain": [
       "array([[1., 2., 2., 3., 3., 5., 9., 7., 7., 7., 5., 9.],\n",
       "       [6., 5., 0., 4., 2., 1., 5., 7., 2., 7., 5., 1.]])"
      ]
     },
     "execution_count": 118,
     "metadata": {},
     "output_type": "execute_result"
    }
   ],
   "source": [
    "D=np.floor(10*rng.random((2,12)))\n",
    "D"
   ]
  },
  {
   "cell_type": "code",
   "execution_count": 119,
   "id": "de83a70f-bacd-46e3-897d-1ab42f1a1b24",
   "metadata": {},
   "outputs": [
    {
     "data": {
      "text/plain": [
       "[array([[1., 2., 2.],\n",
       "        [6., 5., 0.]]),\n",
       " array([[3., 3., 5.],\n",
       "        [4., 2., 1.]]),\n",
       " array([[9., 7., 7.],\n",
       "        [5., 7., 2.]]),\n",
       " array([[7., 5., 9.],\n",
       "        [7., 5., 1.]])]"
      ]
     },
     "execution_count": 119,
     "metadata": {},
     "output_type": "execute_result"
    }
   ],
   "source": [
    "np.hsplit(D, 4)"
   ]
  },
  {
   "cell_type": "code",
   "execution_count": 121,
   "id": "305848fd-09b1-4827-8a26-e7416c1c3d0e",
   "metadata": {},
   "outputs": [
    {
     "data": {
      "text/plain": [
       "[array([[1., 2., 2.],\n",
       "        [6., 5., 0.]]),\n",
       " array([[3., 3.],\n",
       "        [4., 2.]]),\n",
       " array([[5., 9., 7., 7., 7., 5., 9.],\n",
       "        [1., 5., 7., 2., 7., 5., 1.]])]"
      ]
     },
     "execution_count": 121,
     "metadata": {},
     "output_type": "execute_result"
    }
   ],
   "source": [
    "np.hsplit(D, (3,5))"
   ]
  },
  {
   "cell_type": "code",
   "execution_count": 122,
   "id": "ee67b098-9c64-47ee-a34d-8a22d3aa2330",
   "metadata": {},
   "outputs": [
    {
     "data": {
      "text/plain": [
       "[array([[1., 2., 2., 3., 3., 5., 9., 7., 7., 7., 5., 9.]]),\n",
       " array([[6., 5., 0., 4., 2., 1., 5., 7., 2., 7., 5., 1.]])]"
      ]
     },
     "execution_count": 122,
     "metadata": {},
     "output_type": "execute_result"
    }
   ],
   "source": [
    "np.vsplit(D, 2)"
   ]
  },
  {
   "cell_type": "code",
   "execution_count": 128,
   "id": "63703115-d59f-4184-8e52-8ff87384dcf4",
   "metadata": {},
   "outputs": [
    {
     "data": {
      "text/plain": [
       "[array([[1., 2., 2., 3.],\n",
       "        [6., 5., 0., 4.]]),\n",
       " array([[3., 5., 9., 7.],\n",
       "        [2., 1., 5., 7.]]),\n",
       " array([[7., 7., 5., 9.],\n",
       "        [2., 7., 5., 1.]])]"
      ]
     },
     "execution_count": 128,
     "metadata": {},
     "output_type": "execute_result"
    }
   ],
   "source": [
    "np.array_split(D, 3, axis =1) "
   ]
  },
  {
   "cell_type": "code",
   "execution_count": 129,
   "id": "599a4ec9-0acf-426d-bc3d-edfc12b583c7",
   "metadata": {},
   "outputs": [],
   "source": [
    "D = np.array([[0,1,2,3],\n",
    "              [4,5,6,7],\n",
    "              [8,9,10,11]])"
   ]
  },
  {
   "cell_type": "code",
   "execution_count": 131,
   "id": "2233ce05-3431-4e4d-ad19-7d8c61998f17",
   "metadata": {},
   "outputs": [],
   "source": [
    "E= D"
   ]
  },
  {
   "cell_type": "code",
   "execution_count": 132,
   "id": "be646dfe-0f26-4cad-853d-204a7d919220",
   "metadata": {},
   "outputs": [
    {
     "data": {
      "text/plain": [
       "True"
      ]
     },
     "execution_count": 132,
     "metadata": {},
     "output_type": "execute_result"
    }
   ],
   "source": [
    "E is D"
   ]
  },
  {
   "cell_type": "code",
   "execution_count": 133,
   "id": "747467df-8390-40e3-bb6a-9b55ca13ed67",
   "metadata": {},
   "outputs": [
    {
     "data": {
      "text/plain": [
       "array([[ 0,  1,  2,  3],\n",
       "       [ 4,  5,  6,  7],\n",
       "       [ 8,  9, 10, 11]])"
      ]
     },
     "execution_count": 133,
     "metadata": {},
     "output_type": "execute_result"
    }
   ],
   "source": [
    "E"
   ]
  },
  {
   "cell_type": "code",
   "execution_count": 134,
   "id": "6c037ab3-886a-4c9b-b22a-39f01b9cbdb1",
   "metadata": {},
   "outputs": [],
   "source": [
    "def f(x):\n",
    "    print(id(x))\n"
   ]
  },
  {
   "cell_type": "code",
   "execution_count": 135,
   "id": "20b1c4e6-2bc0-4e1b-9ea7-06964ab2478a",
   "metadata": {},
   "outputs": [
    {
     "data": {
      "text/plain": [
       "2283822713616"
      ]
     },
     "execution_count": 135,
     "metadata": {},
     "output_type": "execute_result"
    }
   ],
   "source": [
    "id(D)"
   ]
  },
  {
   "cell_type": "code",
   "execution_count": 136,
   "id": "804a54cd-9fa8-4a85-b59a-de870dc8d955",
   "metadata": {},
   "outputs": [
    {
     "name": "stdout",
     "output_type": "stream",
     "text": [
      "2283822713616\n"
     ]
    }
   ],
   "source": [
    "f(D)"
   ]
  },
  {
   "cell_type": "markdown",
   "id": "1979f886-28da-4593-9d23-f0590ce13225",
   "metadata": {},
   "source": [
    "__Did not understand this__"
   ]
  },
  {
   "cell_type": "code",
   "execution_count": 137,
   "id": "7df85896-2f2e-4a9d-909d-520d9483e762",
   "metadata": {},
   "outputs": [],
   "source": [
    "F = D.view()"
   ]
  },
  {
   "cell_type": "code",
   "execution_count": 138,
   "id": "b918a0db-4c4e-4606-828b-cb2da1cf637e",
   "metadata": {},
   "outputs": [
    {
     "data": {
      "text/plain": [
       "False"
      ]
     },
     "execution_count": 138,
     "metadata": {},
     "output_type": "execute_result"
    }
   ],
   "source": [
    "F is D"
   ]
  },
  {
   "cell_type": "code",
   "execution_count": 139,
   "id": "9763e592-39b1-4acd-b2a6-891816572afa",
   "metadata": {},
   "outputs": [
    {
     "data": {
      "text/plain": [
       "True"
      ]
     },
     "execution_count": 139,
     "metadata": {},
     "output_type": "execute_result"
    }
   ],
   "source": [
    "F.base is D"
   ]
  },
  {
   "cell_type": "code",
   "execution_count": 140,
   "id": "67ae0bbf-7893-4924-b06c-95f2d324f1ff",
   "metadata": {},
   "outputs": [
    {
     "data": {
      "text/plain": [
       "False"
      ]
     },
     "execution_count": 140,
     "metadata": {},
     "output_type": "execute_result"
    }
   ],
   "source": [
    "F.flags.owndata"
   ]
  },
  {
   "cell_type": "code",
   "execution_count": 142,
   "id": "3c145827-1f44-4766-a803-9fb401419d90",
   "metadata": {},
   "outputs": [],
   "source": [
    "F = F.reshape((3,4))"
   ]
  },
  {
   "cell_type": "code",
   "execution_count": 143,
   "id": "5b9d421d-ca9e-417f-abe8-536f9c83de2f",
   "metadata": {},
   "outputs": [
    {
     "data": {
      "text/plain": [
       "(3, 4)"
      ]
     },
     "execution_count": 143,
     "metadata": {},
     "output_type": "execute_result"
    }
   ],
   "source": [
    "D.shape"
   ]
  },
  {
   "cell_type": "code",
   "execution_count": 145,
   "id": "6122e5a3-c74d-43f5-a482-37d866774245",
   "metadata": {},
   "outputs": [],
   "source": [
    "F[0,3] = 1234"
   ]
  },
  {
   "cell_type": "code",
   "execution_count": 146,
   "id": "924bc9c5-d4ff-4f44-bbcf-f4f3bf6a4cd4",
   "metadata": {},
   "outputs": [
    {
     "data": {
      "text/plain": [
       "array([[   0,    1,    2, 1234],\n",
       "       [   4,    5,    6,    7],\n",
       "       [   8,    9,   10,   11]])"
      ]
     },
     "execution_count": 146,
     "metadata": {},
     "output_type": "execute_result"
    }
   ],
   "source": [
    "D"
   ]
  },
  {
   "cell_type": "code",
   "execution_count": 151,
   "id": "43e1a85d-e0ed-48f4-8fbd-c997e96e7c64",
   "metadata": {},
   "outputs": [
    {
     "data": {
      "text/plain": [
       "array([[ 2],\n",
       "       [ 6],\n",
       "       [10]])"
      ]
     },
     "execution_count": 151,
     "metadata": {},
     "output_type": "execute_result"
    }
   ],
   "source": [
    "G = D[:, 2:3]\n",
    "G"
   ]
  },
  {
   "cell_type": "code",
   "execution_count": 152,
   "id": "34897319-0d2c-4638-baa1-6e125af6c57a",
   "metadata": {},
   "outputs": [],
   "source": [
    "G[:]=10"
   ]
  },
  {
   "cell_type": "code",
   "execution_count": 153,
   "id": "085c3cf8-e285-472e-8140-57c82f40ee1d",
   "metadata": {},
   "outputs": [
    {
     "data": {
      "text/plain": [
       "array([[   0,    1,   10, 1234],\n",
       "       [   4,    5,   10,    7],\n",
       "       [   8,    9,   10,   11]])"
      ]
     },
     "execution_count": 153,
     "metadata": {},
     "output_type": "execute_result"
    }
   ],
   "source": [
    "D"
   ]
  },
  {
   "cell_type": "code",
   "execution_count": 154,
   "id": "d163f0e4-050a-4605-ab3c-800bd42ff550",
   "metadata": {},
   "outputs": [],
   "source": [
    "H = D.copy() # copy method makes a complete copy of the array and its data."
   ]
  },
  {
   "cell_type": "code",
   "execution_count": 155,
   "id": "cfa4f13a-42b8-4e0a-a444-756e048b0674",
   "metadata": {},
   "outputs": [
    {
     "data": {
      "text/plain": [
       "False"
      ]
     },
     "execution_count": 155,
     "metadata": {},
     "output_type": "execute_result"
    }
   ],
   "source": [
    "H is D"
   ]
  },
  {
   "cell_type": "code",
   "execution_count": 156,
   "id": "29c4d218-c54c-4179-9887-85ec5c4cd1af",
   "metadata": {},
   "outputs": [
    {
     "data": {
      "text/plain": [
       "False"
      ]
     },
     "execution_count": 156,
     "metadata": {},
     "output_type": "execute_result"
    }
   ],
   "source": [
    "H.base is D"
   ]
  },
  {
   "cell_type": "code",
   "execution_count": 157,
   "id": "db86f82e-6e9d-434d-a4a7-d953b907d043",
   "metadata": {},
   "outputs": [
    {
     "data": {
      "text/plain": [
       "array([[   0,    1,   10, 1234],\n",
       "       [   4,    5,   10,    7],\n",
       "       [   8,    9,   10,   11]])"
      ]
     },
     "execution_count": 157,
     "metadata": {},
     "output_type": "execute_result"
    }
   ],
   "source": [
    "H"
   ]
  },
  {
   "cell_type": "code",
   "execution_count": 158,
   "id": "99d4540c-4af2-4331-84f7-2ec1bb563480",
   "metadata": {},
   "outputs": [],
   "source": [
    "H[0,0] = 5555"
   ]
  },
  {
   "cell_type": "code",
   "execution_count": 159,
   "id": "88415cf2-b9c2-41b7-8358-e07f8354804d",
   "metadata": {},
   "outputs": [
    {
     "data": {
      "text/plain": [
       "array([[   0,    1,   10, 1234],\n",
       "       [   4,    5,   10,    7],\n",
       "       [   8,    9,   10,   11]])"
      ]
     },
     "execution_count": 159,
     "metadata": {},
     "output_type": "execute_result"
    }
   ],
   "source": [
    "D"
   ]
  },
  {
   "cell_type": "code",
   "execution_count": 161,
   "id": "1705426c-105c-4213-9930-1d00cbb3d420",
   "metadata": {},
   "outputs": [
    {
     "data": {
      "text/plain": [
       "array([       0,        1,        2, ..., 99999997, 99999998, 99999999])"
      ]
     },
     "execution_count": 161,
     "metadata": {},
     "output_type": "execute_result"
    }
   ],
   "source": [
    "I = np.arange(int(1e8))\n",
    "I"
   ]
  },
  {
   "cell_type": "code",
   "execution_count": 162,
   "id": "6db1ec02-eaa5-4682-bada-c5d3f576852c",
   "metadata": {},
   "outputs": [
    {
     "data": {
      "text/plain": [
       "array([ 0,  1,  2,  3,  4,  5,  6,  7,  8,  9, 10, 11, 12, 13, 14, 15, 16,\n",
       "       17, 18, 19, 20, 21, 22, 23, 24, 25, 26, 27, 28, 29, 30, 31, 32, 33,\n",
       "       34, 35, 36, 37, 38, 39, 40, 41, 42, 43, 44, 45, 46, 47, 48, 49, 50,\n",
       "       51, 52, 53, 54, 55, 56, 57, 58, 59, 60, 61, 62, 63, 64, 65, 66, 67,\n",
       "       68, 69, 70, 71, 72, 73, 74, 75, 76, 77, 78, 79, 80, 81, 82, 83, 84,\n",
       "       85, 86, 87, 88, 89, 90, 91, 92, 93, 94, 95, 96, 97, 98, 99])"
      ]
     },
     "execution_count": 162,
     "metadata": {},
     "output_type": "execute_result"
    }
   ],
   "source": [
    "J=I[:100].copy()\n",
    "J"
   ]
  },
  {
   "cell_type": "code",
   "execution_count": 163,
   "id": "f607b4a6-bcc1-4898-9998-4b9ae302becd",
   "metadata": {},
   "outputs": [],
   "source": [
    "del I"
   ]
  },
  {
   "cell_type": "code",
   "execution_count": 34,
   "id": "3de3285f-1458-44df-9f8a-7e1352e545fb",
   "metadata": {},
   "outputs": [
    {
     "data": {
      "text/plain": [
       "array([  0,   1,   4,   9,  16,  25,  36,  49,  64,  81, 100, 121],\n",
       "      dtype=int32)"
      ]
     },
     "execution_count": 34,
     "metadata": {},
     "output_type": "execute_result"
    }
   ],
   "source": [
    "K= np.arange(12)**2\n",
    "K"
   ]
  },
  {
   "cell_type": "code",
   "execution_count": 21,
   "id": "8a5d6b4a-3135-4942-99cf-56b441bebb87",
   "metadata": {},
   "outputs": [],
   "source": [
    "L = np.array([1,1,3,8,5])"
   ]
  },
  {
   "cell_type": "code",
   "execution_count": 22,
   "id": "719440f5-4674-48df-8a7d-7be556639d29",
   "metadata": {},
   "outputs": [
    {
     "data": {
      "text/plain": [
       "array([ 1,  1,  9, 64, 25], dtype=int32)"
      ]
     },
     "execution_count": 22,
     "metadata": {},
     "output_type": "execute_result"
    }
   ],
   "source": [
    "K[L]"
   ]
  },
  {
   "cell_type": "code",
   "execution_count": 27,
   "id": "5eef2148-d20b-40c8-bf17-bb4cc5577e48",
   "metadata": {},
   "outputs": [],
   "source": [
    "M=np.array([[3,4],\n",
    "            [9,7]])"
   ]
  },
  {
   "cell_type": "code",
   "execution_count": 28,
   "id": "6d6d1e04-c03e-497b-b093-d56691c86dc1",
   "metadata": {},
   "outputs": [
    {
     "data": {
      "text/plain": [
       "array([[ 9, 16],\n",
       "       [81, 49]], dtype=int32)"
      ]
     },
     "execution_count": 28,
     "metadata": {},
     "output_type": "execute_result"
    }
   ],
   "source": [
    "K[M]"
   ]
  },
  {
   "cell_type": "code",
   "execution_count": 35,
   "id": "c95b034c-884b-40b8-8ee2-af260f74ec53",
   "metadata": {},
   "outputs": [
    {
     "data": {
      "text/plain": [
       "array([[  0,   0,   0],\n",
       "       [255,   0,   0],\n",
       "       [  0, 255,   0],\n",
       "       [  0,   0, 255],\n",
       "       [255, 255, 255]])"
      ]
     },
     "execution_count": 35,
     "metadata": {},
     "output_type": "execute_result"
    }
   ],
   "source": [
    "palette = np.array([[0, 0, 0],         # black\n",
    "                    [255, 0, 0],       # red\n",
    "                    [0, 255, 0],       # green\n",
    "                    [0, 0, 255],       # blue\n",
    "                    [255, 255, 255]])\n",
    "palette"
   ]
  },
  {
   "cell_type": "code",
   "execution_count": 36,
   "id": "e66d206f-4649-4342-bdf3-c0d687875057",
   "metadata": {},
   "outputs": [
    {
     "data": {
      "text/plain": [
       "array([[0, 1, 2, 0],\n",
       "       [0, 3, 4, 0]])"
      ]
     },
     "execution_count": 36,
     "metadata": {},
     "output_type": "execute_result"
    }
   ],
   "source": [
    "image = np.array([[0, 1, 2, 0],  \n",
    "                  [0, 3, 4, 0]])\n",
    "image"
   ]
  },
  {
   "cell_type": "code",
   "execution_count": 32,
   "id": "ad9d7400-7fbd-40ab-ab4c-782063cc7336",
   "metadata": {},
   "outputs": [
    {
     "data": {
      "text/plain": [
       "array([[[  0,   0,   0],\n",
       "        [255,   0,   0],\n",
       "        [  0, 255,   0],\n",
       "        [  0,   0,   0]],\n",
       "\n",
       "       [[  0,   0,   0],\n",
       "        [  0,   0, 255],\n",
       "        [255, 255, 255],\n",
       "        [  0,   0,   0]]])"
      ]
     },
     "execution_count": 32,
     "metadata": {},
     "output_type": "execute_result"
    }
   ],
   "source": [
    "palette[image]"
   ]
  },
  {
   "cell_type": "markdown",
   "id": "6be51218-b8da-4e1b-be15-62d9490c9919",
   "metadata": {},
   "source": [
    "__DID NOT UNDERSTAND THIS__"
   ]
  },
  {
   "cell_type": "code",
   "execution_count": 59,
   "id": "19396115-dc83-40df-ab57-5e1de34ab4f7",
   "metadata": {},
   "outputs": [
    {
     "data": {
      "text/plain": [
       "array([[ 0,  1,  2,  3],\n",
       "       [ 4,  5,  6,  7],\n",
       "       [ 8,  9, 10, 11]])"
      ]
     },
     "execution_count": 59,
     "metadata": {},
     "output_type": "execute_result"
    }
   ],
   "source": [
    "N = np.arange(12).reshape(3, 4)\n",
    "N"
   ]
  },
  {
   "cell_type": "code",
   "execution_count": 60,
   "id": "cc746986-f37c-4e2e-861b-b82b0c3cc44e",
   "metadata": {},
   "outputs": [],
   "source": [
    "O = np.array([[0, 1],  \n",
    "              [1, 2]])  # indices for the first dim of `N`"
   ]
  },
  {
   "cell_type": "code",
   "execution_count": 61,
   "id": "74e288c3-5987-4a3c-93a4-0e54e827d44b",
   "metadata": {},
   "outputs": [],
   "source": [
    "P = np.array([[2, 1],  \n",
    "              [3, 3]]) # indices for the second dim of `N`"
   ]
  },
  {
   "cell_type": "code",
   "execution_count": 62,
   "id": "c9143068-97b7-4745-8278-b07c8b129bcb",
   "metadata": {},
   "outputs": [
    {
     "data": {
      "text/plain": [
       "array([[ 2,  5],\n",
       "       [ 7, 11]])"
      ]
     },
     "execution_count": 62,
     "metadata": {},
     "output_type": "execute_result"
    }
   ],
   "source": [
    "N[O,P]"
   ]
  },
  {
   "cell_type": "code",
   "execution_count": 63,
   "id": "27f41e20-ef40-49fc-8f5f-907f475fa0d3",
   "metadata": {},
   "outputs": [
    {
     "data": {
      "text/plain": [
       "array([[ 2,  6],\n",
       "       [ 6, 10]])"
      ]
     },
     "execution_count": 63,
     "metadata": {},
     "output_type": "execute_result"
    }
   ],
   "source": [
    "N[O,2]"
   ]
  },
  {
   "cell_type": "code",
   "execution_count": 64,
   "id": "6f8a4405-2cbe-4d9c-bf69-de01fbdb488d",
   "metadata": {},
   "outputs": [
    {
     "data": {
      "text/plain": [
       "array([[[ 2,  1],\n",
       "        [ 3,  3]],\n",
       "\n",
       "       [[ 6,  5],\n",
       "        [ 7,  7]],\n",
       "\n",
       "       [[10,  9],\n",
       "        [11, 11]]])"
      ]
     },
     "execution_count": 64,
     "metadata": {},
     "output_type": "execute_result"
    }
   ],
   "source": [
    "N[:, P]"
   ]
  },
  {
   "cell_type": "code",
   "execution_count": 65,
   "id": "ba29a827-4d16-4ede-8779-000d5e31ab5b",
   "metadata": {},
   "outputs": [],
   "source": [
    "Q = (O,P)"
   ]
  },
  {
   "cell_type": "code",
   "execution_count": 66,
   "id": "4f95d2c9-b72c-4c3c-94d1-017059b49cb2",
   "metadata": {},
   "outputs": [
    {
     "data": {
      "text/plain": [
       "array([[ 2,  5],\n",
       "       [ 7, 11]])"
      ]
     },
     "execution_count": 66,
     "metadata": {},
     "output_type": "execute_result"
    }
   ],
   "source": [
    "N[Q]"
   ]
  },
  {
   "cell_type": "code",
   "execution_count": 67,
   "id": "a85516e0-4f76-4b05-adc6-f4a679dbbb25",
   "metadata": {},
   "outputs": [
    {
     "data": {
      "text/plain": [
       "array([[ 2,  5],\n",
       "       [ 7, 11]])"
      ]
     },
     "execution_count": 67,
     "metadata": {},
     "output_type": "execute_result"
    }
   ],
   "source": [
    "N[(O,P)]"
   ]
  },
  {
   "cell_type": "code",
   "execution_count": 68,
   "id": "68311f0d-1e7b-43a8-ada3-9aa17801bc46",
   "metadata": {},
   "outputs": [],
   "source": [
    "R = np.array([O,P])"
   ]
  },
  {
   "cell_type": "code",
   "execution_count": 69,
   "id": "7c9961e4-0376-4efa-bec7-30482ec5ad7f",
   "metadata": {},
   "outputs": [
    {
     "ename": "IndexError",
     "evalue": "index 3 is out of bounds for axis 0 with size 3",
     "output_type": "error",
     "traceback": [
      "\u001b[1;31m---------------------------------------------------------------------------\u001b[0m",
      "\u001b[1;31mIndexError\u001b[0m                                Traceback (most recent call last)",
      "\u001b[1;32m~\\AppData\\Local\\Temp/ipykernel_14688/391174328.py\u001b[0m in \u001b[0;36m<module>\u001b[1;34m\u001b[0m\n\u001b[1;32m----> 1\u001b[1;33m \u001b[0mN\u001b[0m\u001b[1;33m[\u001b[0m\u001b[0mR\u001b[0m\u001b[1;33m]\u001b[0m\u001b[1;33m\u001b[0m\u001b[1;33m\u001b[0m\u001b[0m\n\u001b[0m",
      "\u001b[1;31mIndexError\u001b[0m: index 3 is out of bounds for axis 0 with size 3"
     ]
    }
   ],
   "source": [
    "N[R]"
   ]
  },
  {
   "cell_type": "code",
   "execution_count": 71,
   "id": "6df53377-cb07-46ac-8f89-225b0b72f9c2",
   "metadata": {},
   "outputs": [
    {
     "data": {
      "text/plain": [
       "array([[ 2,  5],\n",
       "       [ 7, 11]])"
      ]
     },
     "execution_count": 71,
     "metadata": {},
     "output_type": "execute_result"
    }
   ],
   "source": [
    "N[tuple(R)]"
   ]
  },
  {
   "cell_type": "code",
   "execution_count": 72,
   "id": "753c758c-bfc5-43a7-b226-0eb07219a1c7",
   "metadata": {},
   "outputs": [
    {
     "data": {
      "text/plain": [
       "array([ 20.  ,  51.25,  82.5 , 113.75, 145.  ])"
      ]
     },
     "execution_count": 72,
     "metadata": {},
     "output_type": "execute_result"
    }
   ],
   "source": [
    "time = np.linspace(20, 145, 5)  \n",
    "time"
   ]
  },
  {
   "cell_type": "code",
   "execution_count": 74,
   "id": "8ce43a77-a3db-4867-8e58-6a07249a4e4e",
   "metadata": {},
   "outputs": [
    {
     "data": {
      "text/plain": [
       "array([[ 0.        ,  0.84147098,  0.90929743,  0.14112001],\n",
       "       [-0.7568025 , -0.95892427, -0.2794155 ,  0.6569866 ],\n",
       "       [ 0.98935825,  0.41211849, -0.54402111, -0.99999021],\n",
       "       [-0.53657292,  0.42016704,  0.99060736,  0.65028784],\n",
       "       [-0.28790332, -0.96139749, -0.75098725,  0.14987721]])"
      ]
     },
     "execution_count": 74,
     "metadata": {},
     "output_type": "execute_result"
    }
   ],
   "source": [
    "data = np.sin(np.arange(20)).reshape(5, 4) \n",
    "data"
   ]
  },
  {
   "cell_type": "code",
   "execution_count": 77,
   "id": "90f09bdd-68f2-407b-8b71-494ba3743b02",
   "metadata": {},
   "outputs": [
    {
     "data": {
      "text/plain": [
       "array([2, 0, 3, 1], dtype=int64)"
      ]
     },
     "execution_count": 77,
     "metadata": {},
     "output_type": "execute_result"
    }
   ],
   "source": [
    "ind = data.argmax(axis=0) # index of the maxima for each series\n",
    "ind"
   ]
  },
  {
   "cell_type": "markdown",
   "id": "ffba05fe-3562-4143-9a7f-a32a33b76a93",
   "metadata": {},
   "source": [
    "__DID NOT UNDERSTAND THIS__"
   ]
  },
  {
   "cell_type": "code",
   "execution_count": 80,
   "id": "42297d96-7e47-4a77-a661-add52fb453a4",
   "metadata": {},
   "outputs": [
    {
     "data": {
      "text/plain": [
       "array([ 82.5 ,  20.  , 113.75,  51.25])"
      ]
     },
     "execution_count": 80,
     "metadata": {},
     "output_type": "execute_result"
    }
   ],
   "source": [
    "time_max = time[ind]\n",
    "time_max"
   ]
  },
  {
   "cell_type": "code",
   "execution_count": 81,
   "id": "10505568-cf5a-423c-b04b-8f8f6376a771",
   "metadata": {},
   "outputs": [
    {
     "data": {
      "text/plain": [
       "array([0.98935825, 0.84147098, 0.99060736, 0.6569866 ])"
      ]
     },
     "execution_count": 81,
     "metadata": {},
     "output_type": "execute_result"
    }
   ],
   "source": [
    "data_max = data[ind, range(data.shape[1])]  # => data[ind[0], 0], data[ind[1], 1]...\n",
    "data_max"
   ]
  },
  {
   "cell_type": "code",
   "execution_count": 82,
   "id": "3ca9d349-9a06-4fc3-b3ad-13009647b772",
   "metadata": {},
   "outputs": [
    {
     "data": {
      "text/plain": [
       "True"
      ]
     },
     "execution_count": 82,
     "metadata": {},
     "output_type": "execute_result"
    }
   ],
   "source": [
    "np.all(data_max == data.max(axis=0))"
   ]
  },
  {
   "cell_type": "code",
   "execution_count": 84,
   "id": "6a25037a-7d3c-4021-a666-c40634d1c710",
   "metadata": {},
   "outputs": [
    {
     "data": {
      "text/plain": [
       "array([0, 1, 2, 3, 4, 5, 6, 7, 8, 9])"
      ]
     },
     "execution_count": 84,
     "metadata": {},
     "output_type": "execute_result"
    }
   ],
   "source": [
    "S=np.arange(10)\n",
    "S"
   ]
  },
  {
   "cell_type": "code",
   "execution_count": 98,
   "id": "efe3ca2f-e465-4888-a43b-e47502b8cfb4",
   "metadata": {},
   "outputs": [],
   "source": [
    "S[[1,3,4,7,9]]=0"
   ]
  },
  {
   "cell_type": "code",
   "execution_count": 99,
   "id": "491c9cbe-7d8a-4ba2-8cc7-21db8b56ecae",
   "metadata": {},
   "outputs": [
    {
     "data": {
      "text/plain": [
       "array([4, 0, 5, 0, 0, 5, 6, 0, 8, 0])"
      ]
     },
     "execution_count": 99,
     "metadata": {},
     "output_type": "execute_result"
    }
   ],
   "source": [
    "S"
   ]
  },
  {
   "cell_type": "code",
   "execution_count": 106,
   "id": "b42d3ae4-525c-419a-8af8-9b4ce510cdc8",
   "metadata": {},
   "outputs": [
    {
     "data": {
      "text/plain": [
       "array([0, 1, 2, 3, 4, 5, 6, 7, 8, 9])"
      ]
     },
     "execution_count": 106,
     "metadata": {},
     "output_type": "execute_result"
    }
   ],
   "source": [
    "S=np.arange(10)\n",
    "S"
   ]
  },
  {
   "cell_type": "code",
   "execution_count": 108,
   "id": "47359118-c1e8-4d10-bb52-6da04a09e13d",
   "metadata": {},
   "outputs": [
    {
     "data": {
      "text/plain": [
       "array([2, 1, 3, 3, 4, 5, 6, 7, 8, 9])"
      ]
     },
     "execution_count": 108,
     "metadata": {},
     "output_type": "execute_result"
    }
   ],
   "source": [
    "S[[0,0,2]]=[1,2,3]\n",
    "S\n",
    "#when the list of indices contains repetitions, the assignment is done several times, leaving behind the last value:"
   ]
  },
  {
   "cell_type": "code",
   "execution_count": 102,
   "id": "3c9d5325-eee4-4ee9-83fa-7c68287a7e76",
   "metadata": {},
   "outputs": [
    {
     "data": {
      "text/plain": [
       "array([1, 1, 3, 3, 4, 5, 6, 7, 8, 9])"
      ]
     },
     "execution_count": 102,
     "metadata": {},
     "output_type": "execute_result"
    }
   ],
   "source": [
    "S=np.arange(10)\n",
    "S[[0,0,2]]+=1\n",
    "S"
   ]
  },
  {
   "cell_type": "code",
   "execution_count": 109,
   "id": "7cbec83d-6be4-4bc7-a8aa-f05e85ae795d",
   "metadata": {},
   "outputs": [
    {
     "data": {
      "text/plain": [
       "array([[ 0,  1,  2,  3],\n",
       "       [ 4,  5,  6,  7],\n",
       "       [ 8,  9, 10, 11]])"
      ]
     },
     "execution_count": 109,
     "metadata": {},
     "output_type": "execute_result"
    }
   ],
   "source": [
    "T = np.arange(12).reshape(3, 4)\n",
    "T"
   ]
  },
  {
   "cell_type": "code",
   "execution_count": 111,
   "id": "1df88d4a-6fc2-4eae-9db4-1048ab069497",
   "metadata": {},
   "outputs": [
    {
     "data": {
      "text/plain": [
       "array([[False, False, False, False],\n",
       "       [False,  True,  True,  True],\n",
       "       [ True,  True,  True,  True]])"
      ]
     },
     "execution_count": 111,
     "metadata": {},
     "output_type": "execute_result"
    }
   ],
   "source": [
    "U = T > 4\n",
    "U"
   ]
  },
  {
   "cell_type": "code",
   "execution_count": 113,
   "id": "01704078-459a-48a1-a3d2-0d25afac0f1a",
   "metadata": {},
   "outputs": [
    {
     "data": {
      "text/plain": [
       "array([ 5,  6,  7,  8,  9, 10, 11])"
      ]
     },
     "execution_count": 113,
     "metadata": {},
     "output_type": "execute_result"
    }
   ],
   "source": [
    "T[U]"
   ]
  },
  {
   "cell_type": "code",
   "execution_count": 114,
   "id": "531fc878-5a16-409f-9280-44509146b994",
   "metadata": {},
   "outputs": [
    {
     "data": {
      "text/plain": [
       "array([[0, 1, 2, 3],\n",
       "       [4, 0, 0, 0],\n",
       "       [0, 0, 0, 0]])"
      ]
     },
     "execution_count": 114,
     "metadata": {},
     "output_type": "execute_result"
    }
   ],
   "source": [
    "T[U]=0\n",
    "T"
   ]
  },
  {
   "cell_type": "code",
   "execution_count": 115,
   "id": "63baef84-4322-4f1e-a171-dbd33a027ce2",
   "metadata": {},
   "outputs": [],
   "source": [
    "import numpy as np\n",
    "import matplotlib.pyplot as plt"
   ]
  },
  {
   "cell_type": "code",
   "execution_count": 188,
   "id": "9dffafd6-5188-477b-b221-c24fe94518f6",
   "metadata": {},
   "outputs": [
    {
     "data": {
      "text/plain": [
       "<matplotlib.image.AxesImage at 0x1e92efb6b20>"
      ]
     },
     "execution_count": 188,
     "metadata": {},
     "output_type": "execute_result"
    },
    {
     "data": {
      "image/png": "[encoded data removed]",
      "text/plain": [
       "<Figure size 432x288 with 1 Axes>"
      ]
     },
     "metadata": {
      "needs_background": "light"
     },
     "output_type": "display_data"
    }
   ],
   "source": [
    "def mandelbrot(h, w, maxit=20, r=2):\n",
    "    \"\"\"Returns an image of the Mandelbrot fractal of size (h,w).\"\"\"\n",
    "    x = np.linspace(-2.5, 1.5, 4*h+1)\n",
    "    y = np.linspace(-1.5, 1.5, 3*w+1)\n",
    "    A, B = np.meshgrid(x, y)\n",
    "    C = A + B*1j\n",
    "    z = np.zeros_like(C)\n",
    "    divtime = maxit + np.zeros(z.shape, dtype=int)\n",
    "\n",
    "    for i in range(maxit):\n",
    "        z = z**2 + C\n",
    "        diverge = abs(z) > r                    # who is diverging\n",
    "        div_now = diverge & (divtime == maxit)  # who is diverging now\n",
    "        divtime[div_now] = i                    # note when\n",
    "        z[diverge] = r                          # avoid diverging too much\n",
    "\n",
    "    return divtime\n",
    "plt.imshow(mandelbrot(800, 600))"
   ]
  },
  {
   "cell_type": "code",
   "execution_count": 122,
   "id": "c41ad844-5dbb-4a42-bd5f-4a838049691b",
   "metadata": {},
   "outputs": [
    {
     "data": {
      "text/plain": [
       "array([[ 0,  1,  2],\n",
       "       [ 3,  4,  5],\n",
       "       [ 6,  7,  8],\n",
       "       [ 9, 10, 11]])"
      ]
     },
     "execution_count": 122,
     "metadata": {},
     "output_type": "execute_result"
    }
   ],
   "source": [
    "V = np.arange(12).reshape(4,3)\n",
    "V"
   ]
  },
  {
   "cell_type": "code",
   "execution_count": 123,
   "id": "e83ed036-869a-4acb-b8b9-a6b97d0243b6",
   "metadata": {},
   "outputs": [],
   "source": [
    "V1=np.array([False, True, True]) #columns"
   ]
  },
  {
   "cell_type": "code",
   "execution_count": 124,
   "id": "b9f674be-976c-416f-9f25-c89365657e47",
   "metadata": {},
   "outputs": [],
   "source": [
    "V2 = np.array([True, False, True, False]) #rows"
   ]
  },
  {
   "cell_type": "code",
   "execution_count": 126,
   "id": "8b68995c-3920-45d3-b407-cbb2676e891f",
   "metadata": {},
   "outputs": [
    {
     "data": {
      "text/plain": [
       "array([[0, 1, 2],\n",
       "       [6, 7, 8]])"
      ]
     },
     "execution_count": 126,
     "metadata": {},
     "output_type": "execute_result"
    }
   ],
   "source": [
    "V[V2]"
   ]
  },
  {
   "cell_type": "code",
   "execution_count": 130,
   "id": "1f78a2a0-9607-48a0-ab15-87eca0e2a69e",
   "metadata": {},
   "outputs": [
    {
     "data": {
      "text/plain": [
       "array([[ 1,  2],\n",
       "       [ 4,  5],\n",
       "       [ 7,  8],\n",
       "       [10, 11]])"
      ]
     },
     "execution_count": 130,
     "metadata": {},
     "output_type": "execute_result"
    }
   ],
   "source": [
    "V[:,V1]"
   ]
  },
  {
   "cell_type": "code",
   "execution_count": 132,
   "id": "ff0547a9-0bfb-4ed5-a870-9faf5fdf3f13",
   "metadata": {},
   "outputs": [
    {
     "data": {
      "text/plain": [
       "array([1, 8])"
      ]
     },
     "execution_count": 132,
     "metadata": {},
     "output_type": "execute_result"
    }
   ],
   "source": [
    "V[V2,V1]"
   ]
  },
  {
   "cell_type": "code",
   "execution_count": 141,
   "id": "f96ab3db-fd8e-4333-ab8b-030b9b8c84df",
   "metadata": {},
   "outputs": [
    {
     "data": {
      "text/plain": [
       "array([[[2]],\n",
       "\n",
       "       [[3]],\n",
       "\n",
       "       [[4]],\n",
       "\n",
       "       [[5]]])"
      ]
     },
     "execution_count": 141,
     "metadata": {},
     "output_type": "execute_result"
    }
   ],
   "source": [
    "W = np.array([2, 3, 4, 5])\n",
    "X = np.array([8, 5, 4])\n",
    "Y = np.array([5, 4, 6, 8, 3])\n",
    "Wx, Xx , Yx = np.ix_(W, X, Y)\n",
    "Wx"
   ]
  },
  {
   "cell_type": "code",
   "execution_count": 142,
   "id": "9eafca6c-ae5f-4fa0-9506-1fa7d077d1e9",
   "metadata": {},
   "outputs": [
    {
     "data": {
      "text/plain": [
       "array([[[8],\n",
       "        [5],\n",
       "        [4]]])"
      ]
     },
     "execution_count": 142,
     "metadata": {},
     "output_type": "execute_result"
    }
   ],
   "source": [
    "Xx"
   ]
  },
  {
   "cell_type": "code",
   "execution_count": 143,
   "id": "2ca7fbc2-b069-4372-b224-15c6aa80cfad",
   "metadata": {},
   "outputs": [
    {
     "data": {
      "text/plain": [
       "array([[[5, 4, 6, 8, 3]]])"
      ]
     },
     "execution_count": 143,
     "metadata": {},
     "output_type": "execute_result"
    }
   ],
   "source": [
    "Yx"
   ]
  },
  {
   "cell_type": "code",
   "execution_count": 144,
   "id": "d55783c8-fa85-465d-8667-9dcbb0a55224",
   "metadata": {},
   "outputs": [
    {
     "data": {
      "text/plain": [
       "((4, 1, 1), (1, 3, 1), (1, 1, 5))"
      ]
     },
     "execution_count": 144,
     "metadata": {},
     "output_type": "execute_result"
    }
   ],
   "source": [
    "Wx.shape, Xx.shape, Yx.shape"
   ]
  },
  {
   "cell_type": "code",
   "execution_count": 145,
   "id": "1185b464-6966-430b-94ec-17bad2118575",
   "metadata": {},
   "outputs": [
    {
     "data": {
      "text/plain": [
       "array([[[42, 34, 50, 66, 26],\n",
       "        [27, 22, 32, 42, 17],\n",
       "        [22, 18, 26, 34, 14]],\n",
       "\n",
       "       [[43, 35, 51, 67, 27],\n",
       "        [28, 23, 33, 43, 18],\n",
       "        [23, 19, 27, 35, 15]],\n",
       "\n",
       "       [[44, 36, 52, 68, 28],\n",
       "        [29, 24, 34, 44, 19],\n",
       "        [24, 20, 28, 36, 16]],\n",
       "\n",
       "       [[45, 37, 53, 69, 29],\n",
       "        [30, 25, 35, 45, 20],\n",
       "        [25, 21, 29, 37, 17]]])"
      ]
     },
     "execution_count": 145,
     "metadata": {},
     "output_type": "execute_result"
    }
   ],
   "source": [
    "result = Wx + Xx * Yx\n",
    "result"
   ]
  },
  {
   "cell_type": "code",
   "execution_count": 146,
   "id": "d8a9abd0-9903-44f1-97e9-c8c964ce18ae",
   "metadata": {},
   "outputs": [
    {
     "data": {
      "text/plain": [
       "17"
      ]
     },
     "execution_count": 146,
     "metadata": {},
     "output_type": "execute_result"
    }
   ],
   "source": [
    "result[3, 2, 4]"
   ]
  },
  {
   "cell_type": "code",
   "execution_count": 147,
   "id": "88c1b7a2-bfa0-40aa-908a-b276356c80df",
   "metadata": {},
   "outputs": [
    {
     "data": {
      "text/plain": [
       "17"
      ]
     },
     "execution_count": 147,
     "metadata": {},
     "output_type": "execute_result"
    }
   ],
   "source": [
    "W[3] + X[2] * Y[4]"
   ]
  },
  {
   "cell_type": "code",
   "execution_count": 149,
   "id": "ebb36f80-2a26-4af7-8fd2-108b019f661e",
   "metadata": {},
   "outputs": [
    {
     "data": {
      "text/plain": [
       "42"
      ]
     },
     "execution_count": 149,
     "metadata": {},
     "output_type": "execute_result"
    }
   ],
   "source": [
    "result[0,0, 0]"
   ]
  },
  {
   "cell_type": "code",
   "execution_count": 150,
   "id": "a255d887-12f7-490f-9d51-36bb5699d1a7",
   "metadata": {},
   "outputs": [
    {
     "data": {
      "text/plain": [
       "42"
      ]
     },
     "execution_count": 150,
     "metadata": {},
     "output_type": "execute_result"
    }
   ],
   "source": [
    "W[0] + X[0] * Y[0]"
   ]
  },
  {
   "cell_type": "code",
   "execution_count": 153,
   "id": "dcc78b03-b1e2-4700-a182-a784e5838ef1",
   "metadata": {},
   "outputs": [],
   "source": [
    "def ufunc_reduce(ufct, *vectors):\n",
    "    vs = np.ix_(*vectors)\n",
    "    r = ufct.identity\n",
    "    for v in vs:\n",
    "        r = ufct(r, v)\n",
    "    return r"
   ]
  },
  {
   "cell_type": "code",
   "execution_count": 154,
   "id": "2df8ab23-eabf-4d7c-b5a3-9472e598476d",
   "metadata": {},
   "outputs": [
    {
     "data": {
      "text/plain": [
       "array([[[15, 14, 16, 18, 13],\n",
       "        [12, 11, 13, 15, 10],\n",
       "        [11, 10, 12, 14,  9]],\n",
       "\n",
       "       [[16, 15, 17, 19, 14],\n",
       "        [13, 12, 14, 16, 11],\n",
       "        [12, 11, 13, 15, 10]],\n",
       "\n",
       "       [[17, 16, 18, 20, 15],\n",
       "        [14, 13, 15, 17, 12],\n",
       "        [13, 12, 14, 16, 11]],\n",
       "\n",
       "       [[18, 17, 19, 21, 16],\n",
       "        [15, 14, 16, 18, 13],\n",
       "        [14, 13, 15, 17, 12]]])"
      ]
     },
     "execution_count": 154,
     "metadata": {},
     "output_type": "execute_result"
    }
   ],
   "source": [
    "ufunc_reduce(np.add, W, X, Y)"
   ]
  },
  {
   "cell_type": "code",
   "execution_count": 156,
   "id": "ad66e22c-ce15-46bc-b2e5-778c867a1ace",
   "metadata": {},
   "outputs": [
    {
     "data": {
      "text/plain": [
       "array([ 0,  1,  2,  3,  4,  5,  6,  7,  8,  9, 10, 11, 12, 13, 14, 15, 16,\n",
       "       17, 18, 19, 20, 21, 22, 23, 24, 25, 26, 27, 28, 29])"
      ]
     },
     "execution_count": 156,
     "metadata": {},
     "output_type": "execute_result"
    }
   ],
   "source": [
    "Z= np.arange(30)\n",
    "Z"
   ]
  },
  {
   "cell_type": "code",
   "execution_count": 173,
   "id": "223a0b24-e685-49b4-9d1b-06d33d98bf59",
   "metadata": {},
   "outputs": [
    {
     "data": {
      "text/plain": [
       "array([[[ 0,  1,  2],\n",
       "        [ 3,  4,  5],\n",
       "        [ 6,  7,  8],\n",
       "        [ 9, 10, 11],\n",
       "        [12, 13, 14]],\n",
       "\n",
       "       [[15, 16, 17],\n",
       "        [18, 19, 20],\n",
       "        [21, 22, 23],\n",
       "        [24, 25, 26],\n",
       "        [27, 28, 29]]])"
      ]
     },
     "execution_count": 173,
     "metadata": {},
     "output_type": "execute_result"
    }
   ],
   "source": [
    "A1=Z.reshape((2,-1,3))  # -1 means \"whatever is needed\"\n",
    "A1"
   ]
  },
  {
   "cell_type": "code",
   "execution_count": 175,
   "id": "68b4f2c4-77f4-4cdc-a2f8-480df9419c11",
   "metadata": {},
   "outputs": [
    {
     "data": {
      "text/plain": [
       "array([[[ 0,  1,  2,  3,  4,  5],\n",
       "        [ 6,  7,  8,  9, 10, 11],\n",
       "        [12, 13, 14, 15, 16, 17],\n",
       "        [18, 19, 20, 21, 22, 23],\n",
       "        [24, 25, 26, 27, 28, 29]]])"
      ]
     },
     "execution_count": 175,
     "metadata": {},
     "output_type": "execute_result"
    }
   ],
   "source": [
    "B1=Z.reshape((1,5,6))  \n",
    "B1"
   ]
  },
  {
   "cell_type": "code",
   "execution_count": 179,
   "id": "51f82f12-3430-41a3-868a-a6b1526ae1a5",
   "metadata": {},
   "outputs": [
    {
     "data": {
      "text/plain": [
       "array([0, 2, 4, 6, 8])"
      ]
     },
     "execution_count": 179,
     "metadata": {},
     "output_type": "execute_result"
    }
   ],
   "source": [
    "C1 = np.arange(0, 10, 2)\n",
    "C1"
   ]
  },
  {
   "cell_type": "code",
   "execution_count": 180,
   "id": "a29d918b-3661-4470-8ee3-a94bb607d8ae",
   "metadata": {},
   "outputs": [
    {
     "data": {
      "text/plain": [
       "array([0, 1, 2, 3, 4])"
      ]
     },
     "execution_count": 180,
     "metadata": {},
     "output_type": "execute_result"
    }
   ],
   "source": [
    "D1 = np.arange(5)\n",
    "D1"
   ]
  },
  {
   "cell_type": "code",
   "execution_count": 181,
   "id": "6abfbc4b-7aa0-44cb-8028-2355ac2ea4a7",
   "metadata": {},
   "outputs": [
    {
     "data": {
      "text/plain": [
       "array([[0, 2, 4, 6, 8],\n",
       "       [0, 1, 2, 3, 4]])"
      ]
     },
     "execution_count": 181,
     "metadata": {},
     "output_type": "execute_result"
    }
   ],
   "source": [
    "E1 = np.vstack([C1, D1])\n",
    "E1"
   ]
  },
  {
   "cell_type": "code",
   "execution_count": 182,
   "id": "bd174dc3-c68f-4b8a-8712-95df82afd17c",
   "metadata": {},
   "outputs": [
    {
     "data": {
      "text/plain": [
       "array([0, 2, 4, 6, 8, 0, 1, 2, 3, 4])"
      ]
     },
     "execution_count": 182,
     "metadata": {},
     "output_type": "execute_result"
    }
   ],
   "source": [
    "C1D1=np.hstack([C1,D1])\n",
    "C1D1"
   ]
  },
  {
   "cell_type": "code",
   "execution_count": 183,
   "id": "4d5ced9f-21e5-4ec5-86f2-d69c4e2d66c9",
   "metadata": {},
   "outputs": [
    {
     "data": {
      "text/plain": [
       "[<matplotlib.lines.Line2D at 0x1e92b7cb2e0>]"
      ]
     },
     "execution_count": 183,
     "metadata": {},
     "output_type": "execute_result"
    },
    {
     "data": {
      "image/png": "[encoded data removed]",
      "text/plain": [
       "<Figure size 432x288 with 1 Axes>"
      ]
     },
     "metadata": {
      "needs_background": "light"
     },
     "output_type": "display_data"
    }
   ],
   "source": [
    "#numpy.histogram only generates the data\n",
    "#pylab.hist plots the histogram automatically\n",
    "\n",
    "\n",
    "import numpy as np\n",
    "rg = np.random.default_rng(1)\n",
    "import matplotlib.pyplot as plt\n",
    "# Build a vector of 10000 normal deviates with variance 0.5^2 and mean 2\n",
    "mu, sigma = 2, 0.5\n",
    "v = rg.normal(mu, sigma, 10000)\n",
    "# Plot a normalized histogram with 50 bins\n",
    "plt.hist(v, bins=50, density=True)       # matplotlib version (plot)\n",
    "# Compute the histogram with numpy and then plot it\n",
    "(n, bins) = np.histogram(v, bins=50, density=True)  # NumPy version (no plot)\n",
    "plt.plot(.5 * (bins[1:] + bins[:-1]), n)"
   ]
  },
  {
   "cell_type": "code",
   "execution_count": null,
   "id": "19fd8bc1-3efb-48d7-a54d-4b5335e38560",
   "metadata": {},
   "outputs": [],
   "source": []
  }
 ],
 "metadata": {
  "kernelspec": {
   "display_name": "Python 3 (ipykernel)",
   "language": "python",
   "name": "python3"
  },
  "language_info": {
   "codemirror_mode": {
    "name": "ipython",
    "version": 3
   },
   "file_extension": ".py",
   "mimetype": "text/x-python",
   "name": "python",
   "nbconvert_exporter": "python",
   "pygments_lexer": "ipython3",
   "version": "3.9.7"
  }
 },
 "nbformat": 4,
 "nbformat_minor": 5
}
